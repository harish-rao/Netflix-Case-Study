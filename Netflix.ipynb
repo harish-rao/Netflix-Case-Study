{
 "cells": [
  {
   "cell_type": "code",
   "execution_count": 638,
   "id": "1df78044",
   "metadata": {},
   "outputs": [],
   "source": [
    "#importing important packages\n",
    "import numpy as np\n",
    "import pandas as pd\n",
    "import matplotlib.pyplot as plt\n",
    "import seaborn as sns\n",
    "import plotly.graph_objects as go"
   ]
  },
  {
   "cell_type": "markdown",
   "id": "8af31b8f",
   "metadata": {},
   "source": [
    "**Problem Statement:** To get basic inisights from the given data of netflix and recommend which movies or shows to produce and how we can grow  business in different countries"
   ]
  },
  {
   "cell_type": "code",
   "execution_count": 639,
   "id": "a00a4ac2",
   "metadata": {},
   "outputs": [
    {
     "data": {
      "text/html": [
       "<div>\n",
       "<style scoped>\n",
       "    .dataframe tbody tr th:only-of-type {\n",
       "        vertical-align: middle;\n",
       "    }\n",
       "\n",
       "    .dataframe tbody tr th {\n",
       "        vertical-align: top;\n",
       "    }\n",
       "\n",
       "    .dataframe thead th {\n",
       "        text-align: right;\n",
       "    }\n",
       "</style>\n",
       "<table border=\"1\" class=\"dataframe\">\n",
       "  <thead>\n",
       "    <tr style=\"text-align: right;\">\n",
       "      <th></th>\n",
       "      <th>show_id</th>\n",
       "      <th>type</th>\n",
       "      <th>title</th>\n",
       "      <th>director</th>\n",
       "      <th>cast</th>\n",
       "      <th>country</th>\n",
       "      <th>date_added</th>\n",
       "      <th>release_year</th>\n",
       "      <th>rating</th>\n",
       "      <th>duration</th>\n",
       "      <th>listed_in</th>\n",
       "      <th>description</th>\n",
       "    </tr>\n",
       "  </thead>\n",
       "  <tbody>\n",
       "    <tr>\n",
       "      <th>0</th>\n",
       "      <td>s1</td>\n",
       "      <td>Movie</td>\n",
       "      <td>Dick Johnson Is Dead</td>\n",
       "      <td>Kirsten Johnson</td>\n",
       "      <td>NaN</td>\n",
       "      <td>United States</td>\n",
       "      <td>September 25, 2021</td>\n",
       "      <td>2020</td>\n",
       "      <td>PG-13</td>\n",
       "      <td>90 min</td>\n",
       "      <td>Documentaries</td>\n",
       "      <td>As her father nears the end of his life, filmm...</td>\n",
       "    </tr>\n",
       "    <tr>\n",
       "      <th>1</th>\n",
       "      <td>s2</td>\n",
       "      <td>TV Show</td>\n",
       "      <td>Blood &amp; Water</td>\n",
       "      <td>NaN</td>\n",
       "      <td>Ama Qamata, Khosi Ngema, Gail Mabalane, Thaban...</td>\n",
       "      <td>South Africa</td>\n",
       "      <td>September 24, 2021</td>\n",
       "      <td>2021</td>\n",
       "      <td>TV-MA</td>\n",
       "      <td>2 Seasons</td>\n",
       "      <td>International TV Shows, TV Dramas, TV Mysteries</td>\n",
       "      <td>After crossing paths at a party, a Cape Town t...</td>\n",
       "    </tr>\n",
       "    <tr>\n",
       "      <th>2</th>\n",
       "      <td>s3</td>\n",
       "      <td>TV Show</td>\n",
       "      <td>Ganglands</td>\n",
       "      <td>Julien Leclercq</td>\n",
       "      <td>Sami Bouajila, Tracy Gotoas, Samuel Jouy, Nabi...</td>\n",
       "      <td>NaN</td>\n",
       "      <td>September 24, 2021</td>\n",
       "      <td>2021</td>\n",
       "      <td>TV-MA</td>\n",
       "      <td>1 Season</td>\n",
       "      <td>Crime TV Shows, International TV Shows, TV Act...</td>\n",
       "      <td>To protect his family from a powerful drug lor...</td>\n",
       "    </tr>\n",
       "    <tr>\n",
       "      <th>3</th>\n",
       "      <td>s4</td>\n",
       "      <td>TV Show</td>\n",
       "      <td>Jailbirds New Orleans</td>\n",
       "      <td>NaN</td>\n",
       "      <td>NaN</td>\n",
       "      <td>NaN</td>\n",
       "      <td>September 24, 2021</td>\n",
       "      <td>2021</td>\n",
       "      <td>TV-MA</td>\n",
       "      <td>1 Season</td>\n",
       "      <td>Docuseries, Reality TV</td>\n",
       "      <td>Feuds, flirtations and toilet talk go down amo...</td>\n",
       "    </tr>\n",
       "    <tr>\n",
       "      <th>4</th>\n",
       "      <td>s5</td>\n",
       "      <td>TV Show</td>\n",
       "      <td>Kota Factory</td>\n",
       "      <td>NaN</td>\n",
       "      <td>Mayur More, Jitendra Kumar, Ranjan Raj, Alam K...</td>\n",
       "      <td>India</td>\n",
       "      <td>September 24, 2021</td>\n",
       "      <td>2021</td>\n",
       "      <td>TV-MA</td>\n",
       "      <td>2 Seasons</td>\n",
       "      <td>International TV Shows, Romantic TV Shows, TV ...</td>\n",
       "      <td>In a city of coaching centers known to train I...</td>\n",
       "    </tr>\n",
       "  </tbody>\n",
       "</table>\n",
       "</div>"
      ],
      "text/plain": [
       "  show_id     type                  title         director  \\\n",
       "0      s1    Movie   Dick Johnson Is Dead  Kirsten Johnson   \n",
       "1      s2  TV Show          Blood & Water              NaN   \n",
       "2      s3  TV Show              Ganglands  Julien Leclercq   \n",
       "3      s4  TV Show  Jailbirds New Orleans              NaN   \n",
       "4      s5  TV Show           Kota Factory              NaN   \n",
       "\n",
       "                                                cast        country  \\\n",
       "0                                                NaN  United States   \n",
       "1  Ama Qamata, Khosi Ngema, Gail Mabalane, Thaban...   South Africa   \n",
       "2  Sami Bouajila, Tracy Gotoas, Samuel Jouy, Nabi...            NaN   \n",
       "3                                                NaN            NaN   \n",
       "4  Mayur More, Jitendra Kumar, Ranjan Raj, Alam K...          India   \n",
       "\n",
       "           date_added  release_year rating   duration  \\\n",
       "0  September 25, 2021          2020  PG-13     90 min   \n",
       "1  September 24, 2021          2021  TV-MA  2 Seasons   \n",
       "2  September 24, 2021          2021  TV-MA   1 Season   \n",
       "3  September 24, 2021          2021  TV-MA   1 Season   \n",
       "4  September 24, 2021          2021  TV-MA  2 Seasons   \n",
       "\n",
       "                                           listed_in  \\\n",
       "0                                      Documentaries   \n",
       "1    International TV Shows, TV Dramas, TV Mysteries   \n",
       "2  Crime TV Shows, International TV Shows, TV Act...   \n",
       "3                             Docuseries, Reality TV   \n",
       "4  International TV Shows, Romantic TV Shows, TV ...   \n",
       "\n",
       "                                         description  \n",
       "0  As her father nears the end of his life, filmm...  \n",
       "1  After crossing paths at a party, a Cape Town t...  \n",
       "2  To protect his family from a powerful drug lor...  \n",
       "3  Feuds, flirtations and toilet talk go down amo...  \n",
       "4  In a city of coaching centers known to train I...  "
      ]
     },
     "execution_count": 639,
     "metadata": {},
     "output_type": "execute_result"
    }
   ],
   "source": [
    "#importing data from local system\n",
    "df = pd.read_csv('netflix.csv')\n",
    "df.head()"
   ]
  },
  {
   "cell_type": "code",
   "execution_count": 640,
   "id": "d48c2c82",
   "metadata": {},
   "outputs": [
    {
     "data": {
      "text/plain": [
       "(8807, 12)"
      ]
     },
     "execution_count": 640,
     "metadata": {},
     "output_type": "execute_result"
    }
   ],
   "source": [
    "df.shape"
   ]
  },
  {
   "cell_type": "code",
   "execution_count": 641,
   "id": "2151f49e",
   "metadata": {},
   "outputs": [
    {
     "name": "stdout",
     "output_type": "stream",
     "text": [
      "<class 'pandas.core.frame.DataFrame'>\n",
      "RangeIndex: 8807 entries, 0 to 8806\n",
      "Data columns (total 12 columns):\n",
      " #   Column        Non-Null Count  Dtype \n",
      "---  ------        --------------  ----- \n",
      " 0   show_id       8807 non-null   object\n",
      " 1   type          8807 non-null   object\n",
      " 2   title         8807 non-null   object\n",
      " 3   director      6173 non-null   object\n",
      " 4   cast          7982 non-null   object\n",
      " 5   country       7976 non-null   object\n",
      " 6   date_added    8797 non-null   object\n",
      " 7   release_year  8807 non-null   int64 \n",
      " 8   rating        8803 non-null   object\n",
      " 9   duration      8804 non-null   object\n",
      " 10  listed_in     8807 non-null   object\n",
      " 11  description   8807 non-null   object\n",
      "dtypes: int64(1), object(11)\n",
      "memory usage: 825.8+ KB\n"
     ]
    }
   ],
   "source": [
    "#getting basic info\n",
    "df.info()"
   ]
  },
  {
   "cell_type": "code",
   "execution_count": 642,
   "id": "9c384993",
   "metadata": {},
   "outputs": [
    {
     "data": {
      "text/html": [
       "<div>\n",
       "<style scoped>\n",
       "    .dataframe tbody tr th:only-of-type {\n",
       "        vertical-align: middle;\n",
       "    }\n",
       "\n",
       "    .dataframe tbody tr th {\n",
       "        vertical-align: top;\n",
       "    }\n",
       "\n",
       "    .dataframe thead th {\n",
       "        text-align: right;\n",
       "    }\n",
       "</style>\n",
       "<table border=\"1\" class=\"dataframe\">\n",
       "  <thead>\n",
       "    <tr style=\"text-align: right;\">\n",
       "      <th></th>\n",
       "      <th>show_id</th>\n",
       "      <th>type</th>\n",
       "      <th>title</th>\n",
       "      <th>director</th>\n",
       "      <th>cast</th>\n",
       "      <th>country</th>\n",
       "      <th>date_added</th>\n",
       "      <th>release_year</th>\n",
       "      <th>rating</th>\n",
       "      <th>duration</th>\n",
       "      <th>listed_in</th>\n",
       "      <th>description</th>\n",
       "    </tr>\n",
       "  </thead>\n",
       "  <tbody>\n",
       "    <tr>\n",
       "      <th>count</th>\n",
       "      <td>8807</td>\n",
       "      <td>8807</td>\n",
       "      <td>8807</td>\n",
       "      <td>6173</td>\n",
       "      <td>7982</td>\n",
       "      <td>7976</td>\n",
       "      <td>8797</td>\n",
       "      <td>8807.000000</td>\n",
       "      <td>8803</td>\n",
       "      <td>8804</td>\n",
       "      <td>8807</td>\n",
       "      <td>8807</td>\n",
       "    </tr>\n",
       "    <tr>\n",
       "      <th>unique</th>\n",
       "      <td>8807</td>\n",
       "      <td>2</td>\n",
       "      <td>8807</td>\n",
       "      <td>4528</td>\n",
       "      <td>7692</td>\n",
       "      <td>748</td>\n",
       "      <td>1767</td>\n",
       "      <td>NaN</td>\n",
       "      <td>17</td>\n",
       "      <td>220</td>\n",
       "      <td>514</td>\n",
       "      <td>8775</td>\n",
       "    </tr>\n",
       "    <tr>\n",
       "      <th>top</th>\n",
       "      <td>s1</td>\n",
       "      <td>Movie</td>\n",
       "      <td>Dick Johnson Is Dead</td>\n",
       "      <td>Rajiv Chilaka</td>\n",
       "      <td>David Attenborough</td>\n",
       "      <td>United States</td>\n",
       "      <td>January 1, 2020</td>\n",
       "      <td>NaN</td>\n",
       "      <td>TV-MA</td>\n",
       "      <td>1 Season</td>\n",
       "      <td>Dramas, International Movies</td>\n",
       "      <td>Paranormal activity at a lush, abandoned prope...</td>\n",
       "    </tr>\n",
       "    <tr>\n",
       "      <th>freq</th>\n",
       "      <td>1</td>\n",
       "      <td>6131</td>\n",
       "      <td>1</td>\n",
       "      <td>19</td>\n",
       "      <td>19</td>\n",
       "      <td>2818</td>\n",
       "      <td>109</td>\n",
       "      <td>NaN</td>\n",
       "      <td>3207</td>\n",
       "      <td>1793</td>\n",
       "      <td>362</td>\n",
       "      <td>4</td>\n",
       "    </tr>\n",
       "    <tr>\n",
       "      <th>mean</th>\n",
       "      <td>NaN</td>\n",
       "      <td>NaN</td>\n",
       "      <td>NaN</td>\n",
       "      <td>NaN</td>\n",
       "      <td>NaN</td>\n",
       "      <td>NaN</td>\n",
       "      <td>NaN</td>\n",
       "      <td>2014.180198</td>\n",
       "      <td>NaN</td>\n",
       "      <td>NaN</td>\n",
       "      <td>NaN</td>\n",
       "      <td>NaN</td>\n",
       "    </tr>\n",
       "    <tr>\n",
       "      <th>std</th>\n",
       "      <td>NaN</td>\n",
       "      <td>NaN</td>\n",
       "      <td>NaN</td>\n",
       "      <td>NaN</td>\n",
       "      <td>NaN</td>\n",
       "      <td>NaN</td>\n",
       "      <td>NaN</td>\n",
       "      <td>8.819312</td>\n",
       "      <td>NaN</td>\n",
       "      <td>NaN</td>\n",
       "      <td>NaN</td>\n",
       "      <td>NaN</td>\n",
       "    </tr>\n",
       "    <tr>\n",
       "      <th>min</th>\n",
       "      <td>NaN</td>\n",
       "      <td>NaN</td>\n",
       "      <td>NaN</td>\n",
       "      <td>NaN</td>\n",
       "      <td>NaN</td>\n",
       "      <td>NaN</td>\n",
       "      <td>NaN</td>\n",
       "      <td>1925.000000</td>\n",
       "      <td>NaN</td>\n",
       "      <td>NaN</td>\n",
       "      <td>NaN</td>\n",
       "      <td>NaN</td>\n",
       "    </tr>\n",
       "    <tr>\n",
       "      <th>25%</th>\n",
       "      <td>NaN</td>\n",
       "      <td>NaN</td>\n",
       "      <td>NaN</td>\n",
       "      <td>NaN</td>\n",
       "      <td>NaN</td>\n",
       "      <td>NaN</td>\n",
       "      <td>NaN</td>\n",
       "      <td>2013.000000</td>\n",
       "      <td>NaN</td>\n",
       "      <td>NaN</td>\n",
       "      <td>NaN</td>\n",
       "      <td>NaN</td>\n",
       "    </tr>\n",
       "    <tr>\n",
       "      <th>50%</th>\n",
       "      <td>NaN</td>\n",
       "      <td>NaN</td>\n",
       "      <td>NaN</td>\n",
       "      <td>NaN</td>\n",
       "      <td>NaN</td>\n",
       "      <td>NaN</td>\n",
       "      <td>NaN</td>\n",
       "      <td>2017.000000</td>\n",
       "      <td>NaN</td>\n",
       "      <td>NaN</td>\n",
       "      <td>NaN</td>\n",
       "      <td>NaN</td>\n",
       "    </tr>\n",
       "    <tr>\n",
       "      <th>75%</th>\n",
       "      <td>NaN</td>\n",
       "      <td>NaN</td>\n",
       "      <td>NaN</td>\n",
       "      <td>NaN</td>\n",
       "      <td>NaN</td>\n",
       "      <td>NaN</td>\n",
       "      <td>NaN</td>\n",
       "      <td>2019.000000</td>\n",
       "      <td>NaN</td>\n",
       "      <td>NaN</td>\n",
       "      <td>NaN</td>\n",
       "      <td>NaN</td>\n",
       "    </tr>\n",
       "    <tr>\n",
       "      <th>max</th>\n",
       "      <td>NaN</td>\n",
       "      <td>NaN</td>\n",
       "      <td>NaN</td>\n",
       "      <td>NaN</td>\n",
       "      <td>NaN</td>\n",
       "      <td>NaN</td>\n",
       "      <td>NaN</td>\n",
       "      <td>2021.000000</td>\n",
       "      <td>NaN</td>\n",
       "      <td>NaN</td>\n",
       "      <td>NaN</td>\n",
       "      <td>NaN</td>\n",
       "    </tr>\n",
       "  </tbody>\n",
       "</table>\n",
       "</div>"
      ],
      "text/plain": [
       "       show_id   type                 title       director  \\\n",
       "count     8807   8807                  8807           6173   \n",
       "unique    8807      2                  8807           4528   \n",
       "top         s1  Movie  Dick Johnson Is Dead  Rajiv Chilaka   \n",
       "freq         1   6131                     1             19   \n",
       "mean       NaN    NaN                   NaN            NaN   \n",
       "std        NaN    NaN                   NaN            NaN   \n",
       "min        NaN    NaN                   NaN            NaN   \n",
       "25%        NaN    NaN                   NaN            NaN   \n",
       "50%        NaN    NaN                   NaN            NaN   \n",
       "75%        NaN    NaN                   NaN            NaN   \n",
       "max        NaN    NaN                   NaN            NaN   \n",
       "\n",
       "                      cast        country       date_added  release_year  \\\n",
       "count                 7982           7976             8797   8807.000000   \n",
       "unique                7692            748             1767           NaN   \n",
       "top     David Attenborough  United States  January 1, 2020           NaN   \n",
       "freq                    19           2818              109           NaN   \n",
       "mean                   NaN            NaN              NaN   2014.180198   \n",
       "std                    NaN            NaN              NaN      8.819312   \n",
       "min                    NaN            NaN              NaN   1925.000000   \n",
       "25%                    NaN            NaN              NaN   2013.000000   \n",
       "50%                    NaN            NaN              NaN   2017.000000   \n",
       "75%                    NaN            NaN              NaN   2019.000000   \n",
       "max                    NaN            NaN              NaN   2021.000000   \n",
       "\n",
       "       rating  duration                     listed_in  \\\n",
       "count    8803      8804                          8807   \n",
       "unique     17       220                           514   \n",
       "top     TV-MA  1 Season  Dramas, International Movies   \n",
       "freq     3207      1793                           362   \n",
       "mean      NaN       NaN                           NaN   \n",
       "std       NaN       NaN                           NaN   \n",
       "min       NaN       NaN                           NaN   \n",
       "25%       NaN       NaN                           NaN   \n",
       "50%       NaN       NaN                           NaN   \n",
       "75%       NaN       NaN                           NaN   \n",
       "max       NaN       NaN                           NaN   \n",
       "\n",
       "                                              description  \n",
       "count                                                8807  \n",
       "unique                                               8775  \n",
       "top     Paranormal activity at a lush, abandoned prope...  \n",
       "freq                                                    4  \n",
       "mean                                                  NaN  \n",
       "std                                                   NaN  \n",
       "min                                                   NaN  \n",
       "25%                                                   NaN  \n",
       "50%                                                   NaN  \n",
       "75%                                                   NaN  \n",
       "max                                                   NaN  "
      ]
     },
     "execution_count": 642,
     "metadata": {},
     "output_type": "execute_result"
    }
   ],
   "source": [
    "df.describe(include = 'all')"
   ]
  },
  {
   "cell_type": "markdown",
   "id": "f2bc046b",
   "metadata": {},
   "source": [
    "- here we can see total of 8807 rows \n",
    "- we have show_id and title 8807 unique values \n",
    "- so we can use these two as primary key if we want to operations"
   ]
  },
  {
   "cell_type": "code",
   "execution_count": 643,
   "id": "aad682f5",
   "metadata": {},
   "outputs": [
    {
     "data": {
      "text/plain": [
       "show_id            0\n",
       "type               0\n",
       "title              0\n",
       "director        2634\n",
       "cast             825\n",
       "country          831\n",
       "date_added        10\n",
       "release_year       0\n",
       "rating             4\n",
       "duration           3\n",
       "listed_in          0\n",
       "description        0\n",
       "dtype: int64"
      ]
     },
     "execution_count": 643,
     "metadata": {},
     "output_type": "execute_result"
    }
   ],
   "source": [
    "#checking for missing values\n",
    "df.isna().sum(axis=0)"
   ]
  },
  {
   "cell_type": "markdown",
   "id": "9fc3500a",
   "metadata": {},
   "source": [
    "We have some missing values in:\n",
    "- director : 2634\n",
    "- cast : 825\n",
    "- country : 831\n",
    "- date_added : 10\n",
    "- duration : 3"
   ]
  },
  {
   "cell_type": "code",
   "execution_count": 644,
   "id": "5dea3cde",
   "metadata": {},
   "outputs": [],
   "source": [
    "#now we can see some listed in, cast have comma seperated value so we have to clean some data"
   ]
  },
  {
   "cell_type": "code",
   "execution_count": 645,
   "id": "18a392da",
   "metadata": {},
   "outputs": [
    {
     "data": {
      "text/html": [
       "<div>\n",
       "<style scoped>\n",
       "    .dataframe tbody tr th:only-of-type {\n",
       "        vertical-align: middle;\n",
       "    }\n",
       "\n",
       "    .dataframe tbody tr th {\n",
       "        vertical-align: top;\n",
       "    }\n",
       "\n",
       "    .dataframe thead th {\n",
       "        text-align: right;\n",
       "    }\n",
       "</style>\n",
       "<table border=\"1\" class=\"dataframe\">\n",
       "  <thead>\n",
       "    <tr style=\"text-align: right;\">\n",
       "      <th></th>\n",
       "      <th>title</th>\n",
       "      <th>Actors</th>\n",
       "    </tr>\n",
       "  </thead>\n",
       "  <tbody>\n",
       "    <tr>\n",
       "      <th>0</th>\n",
       "      <td>Dick Johnson Is Dead</td>\n",
       "      <td>nan</td>\n",
       "    </tr>\n",
       "    <tr>\n",
       "      <th>1</th>\n",
       "      <td>Blood &amp; Water</td>\n",
       "      <td>Ama Qamata</td>\n",
       "    </tr>\n",
       "    <tr>\n",
       "      <th>2</th>\n",
       "      <td>Blood &amp; Water</td>\n",
       "      <td>Khosi Ngema</td>\n",
       "    </tr>\n",
       "    <tr>\n",
       "      <th>3</th>\n",
       "      <td>Blood &amp; Water</td>\n",
       "      <td>Gail Mabalane</td>\n",
       "    </tr>\n",
       "    <tr>\n",
       "      <th>4</th>\n",
       "      <td>Blood &amp; Water</td>\n",
       "      <td>Thabang Molaba</td>\n",
       "    </tr>\n",
       "  </tbody>\n",
       "</table>\n",
       "</div>"
      ],
      "text/plain": [
       "                  title           Actors\n",
       "0  Dick Johnson Is Dead              nan\n",
       "1         Blood & Water       Ama Qamata\n",
       "2         Blood & Water      Khosi Ngema\n",
       "3         Blood & Water    Gail Mabalane\n",
       "4         Blood & Water   Thabang Molaba"
      ]
     },
     "execution_count": 645,
     "metadata": {},
     "output_type": "execute_result"
    }
   ],
   "source": [
    "#creating new data set of actors keeping title name as Primary key\n",
    "cons = df['cast'].apply(lambda x: str(x).split(',')).tolist()\n",
    "df_new1 = pd.DataFrame(cons,index = df['title'])\n",
    "df_new1 = df_new1.stack()\n",
    "df_new1 = pd.DataFrame(df_new1.reset_index())\n",
    "df_new1.rename(columns = {0:'Actors'},inplace=True)\n",
    "df_new1.drop(columns = ['level_1'],inplace=True)\n",
    "df_new1.head(5)"
   ]
  },
  {
   "cell_type": "code",
   "execution_count": 646,
   "id": "2266eb6b",
   "metadata": {},
   "outputs": [
    {
     "data": {
      "text/html": [
       "<div>\n",
       "<style scoped>\n",
       "    .dataframe tbody tr th:only-of-type {\n",
       "        vertical-align: middle;\n",
       "    }\n",
       "\n",
       "    .dataframe tbody tr th {\n",
       "        vertical-align: top;\n",
       "    }\n",
       "\n",
       "    .dataframe thead th {\n",
       "        text-align: right;\n",
       "    }\n",
       "</style>\n",
       "<table border=\"1\" class=\"dataframe\">\n",
       "  <thead>\n",
       "    <tr style=\"text-align: right;\">\n",
       "      <th></th>\n",
       "      <th>title</th>\n",
       "      <th>Director</th>\n",
       "    </tr>\n",
       "  </thead>\n",
       "  <tbody>\n",
       "    <tr>\n",
       "      <th>0</th>\n",
       "      <td>Dick Johnson Is Dead</td>\n",
       "      <td>Kirsten Johnson</td>\n",
       "    </tr>\n",
       "    <tr>\n",
       "      <th>1</th>\n",
       "      <td>Blood &amp; Water</td>\n",
       "      <td>nan</td>\n",
       "    </tr>\n",
       "    <tr>\n",
       "      <th>2</th>\n",
       "      <td>Ganglands</td>\n",
       "      <td>Julien Leclercq</td>\n",
       "    </tr>\n",
       "    <tr>\n",
       "      <th>3</th>\n",
       "      <td>Jailbirds New Orleans</td>\n",
       "      <td>nan</td>\n",
       "    </tr>\n",
       "    <tr>\n",
       "      <th>4</th>\n",
       "      <td>Kota Factory</td>\n",
       "      <td>nan</td>\n",
       "    </tr>\n",
       "  </tbody>\n",
       "</table>\n",
       "</div>"
      ],
      "text/plain": [
       "                   title         Director\n",
       "0   Dick Johnson Is Dead  Kirsten Johnson\n",
       "1          Blood & Water              nan\n",
       "2              Ganglands  Julien Leclercq\n",
       "3  Jailbirds New Orleans              nan\n",
       "4           Kota Factory              nan"
      ]
     },
     "execution_count": 646,
     "metadata": {},
     "output_type": "execute_result"
    }
   ],
   "source": [
    "#creating new data set of directors keeping title name as Primary key\n",
    "cons2 = df['director'].apply(lambda x: str(x).split(',')).tolist()\n",
    "df_new2 = pd.DataFrame(cons2,index = df['title'])\n",
    "df_new2 = df_new2.stack()\n",
    "df_new2 = pd.DataFrame(df_new2.reset_index())\n",
    "df_new2.rename(columns = {0:'Director'},inplace=True)\n",
    "df_new2.drop(columns = ['level_1'],inplace=True)\n",
    "df_new2.head(5)"
   ]
  },
  {
   "cell_type": "code",
   "execution_count": 647,
   "id": "7868ecb4",
   "metadata": {},
   "outputs": [
    {
     "data": {
      "text/html": [
       "<div>\n",
       "<style scoped>\n",
       "    .dataframe tbody tr th:only-of-type {\n",
       "        vertical-align: middle;\n",
       "    }\n",
       "\n",
       "    .dataframe tbody tr th {\n",
       "        vertical-align: top;\n",
       "    }\n",
       "\n",
       "    .dataframe thead th {\n",
       "        text-align: right;\n",
       "    }\n",
       "</style>\n",
       "<table border=\"1\" class=\"dataframe\">\n",
       "  <thead>\n",
       "    <tr style=\"text-align: right;\">\n",
       "      <th></th>\n",
       "      <th>title</th>\n",
       "      <th>Genre</th>\n",
       "    </tr>\n",
       "  </thead>\n",
       "  <tbody>\n",
       "    <tr>\n",
       "      <th>0</th>\n",
       "      <td>Dick Johnson Is Dead</td>\n",
       "      <td>Documentaries</td>\n",
       "    </tr>\n",
       "    <tr>\n",
       "      <th>1</th>\n",
       "      <td>Blood &amp; Water</td>\n",
       "      <td>International TV Shows</td>\n",
       "    </tr>\n",
       "    <tr>\n",
       "      <th>2</th>\n",
       "      <td>Blood &amp; Water</td>\n",
       "      <td>TV Dramas</td>\n",
       "    </tr>\n",
       "    <tr>\n",
       "      <th>3</th>\n",
       "      <td>Blood &amp; Water</td>\n",
       "      <td>TV Mysteries</td>\n",
       "    </tr>\n",
       "    <tr>\n",
       "      <th>4</th>\n",
       "      <td>Ganglands</td>\n",
       "      <td>Crime TV Shows</td>\n",
       "    </tr>\n",
       "  </tbody>\n",
       "</table>\n",
       "</div>"
      ],
      "text/plain": [
       "                  title                   Genre\n",
       "0  Dick Johnson Is Dead           Documentaries\n",
       "1         Blood & Water  International TV Shows\n",
       "2         Blood & Water               TV Dramas\n",
       "3         Blood & Water            TV Mysteries\n",
       "4             Ganglands          Crime TV Shows"
      ]
     },
     "execution_count": 647,
     "metadata": {},
     "output_type": "execute_result"
    }
   ],
   "source": [
    "#creating new data set of Genre keeping title name as Primary key\n",
    "cons3 = df['listed_in'].apply(lambda x: str(x).split(',')).tolist()\n",
    "df_new3 = pd.DataFrame(cons3,index = df['title'])\n",
    "df_new3 = df_new3.stack()\n",
    "df_new3 = pd.DataFrame(df_new3.reset_index())\n",
    "df_new3.rename(columns = {0:'Genre'},inplace=True)\n",
    "df_new3.drop(columns = ['level_1'],inplace=True)\n",
    "df_new3.head(5)"
   ]
  },
  {
   "cell_type": "code",
   "execution_count": 649,
   "id": "0df8bdcd",
   "metadata": {},
   "outputs": [
    {
     "data": {
      "text/html": [
       "<div>\n",
       "<style scoped>\n",
       "    .dataframe tbody tr th:only-of-type {\n",
       "        vertical-align: middle;\n",
       "    }\n",
       "\n",
       "    .dataframe tbody tr th {\n",
       "        vertical-align: top;\n",
       "    }\n",
       "\n",
       "    .dataframe thead th {\n",
       "        text-align: right;\n",
       "    }\n",
       "</style>\n",
       "<table border=\"1\" class=\"dataframe\">\n",
       "  <thead>\n",
       "    <tr style=\"text-align: right;\">\n",
       "      <th></th>\n",
       "      <th>title</th>\n",
       "      <th>Country</th>\n",
       "    </tr>\n",
       "  </thead>\n",
       "  <tbody>\n",
       "    <tr>\n",
       "      <th>0</th>\n",
       "      <td>Dick Johnson Is Dead</td>\n",
       "      <td>United States</td>\n",
       "    </tr>\n",
       "    <tr>\n",
       "      <th>1</th>\n",
       "      <td>Blood &amp; Water</td>\n",
       "      <td>South Africa</td>\n",
       "    </tr>\n",
       "    <tr>\n",
       "      <th>2</th>\n",
       "      <td>Ganglands</td>\n",
       "      <td>nan</td>\n",
       "    </tr>\n",
       "    <tr>\n",
       "      <th>3</th>\n",
       "      <td>Jailbirds New Orleans</td>\n",
       "      <td>nan</td>\n",
       "    </tr>\n",
       "    <tr>\n",
       "      <th>4</th>\n",
       "      <td>Kota Factory</td>\n",
       "      <td>India</td>\n",
       "    </tr>\n",
       "  </tbody>\n",
       "</table>\n",
       "</div>"
      ],
      "text/plain": [
       "                   title        Country\n",
       "0   Dick Johnson Is Dead  United States\n",
       "1          Blood & Water   South Africa\n",
       "2              Ganglands            nan\n",
       "3  Jailbirds New Orleans            nan\n",
       "4           Kota Factory          India"
      ]
     },
     "execution_count": 649,
     "metadata": {},
     "output_type": "execute_result"
    }
   ],
   "source": [
    "#creating new data set of Country keeping title name as Primary key\n",
    "cons4 = df['country'].apply(lambda x: str(x).split(',')).tolist()\n",
    "df_new4 = pd.DataFrame(cons4,index = df['title'])\n",
    "df_new4 = df_new4.stack()\n",
    "df_new4 = pd.DataFrame(df_new4.reset_index())\n",
    "df_new4.rename(columns = {0:'Country'},inplace=True)\n",
    "df_new4.drop(columns = ['level_1'],inplace=True)\n",
    "df_new4.head(5)"
   ]
  },
  {
   "cell_type": "code",
   "execution_count": 650,
   "id": "06c1e960",
   "metadata": {},
   "outputs": [
    {
     "data": {
      "text/html": [
       "<div>\n",
       "<style scoped>\n",
       "    .dataframe tbody tr th:only-of-type {\n",
       "        vertical-align: middle;\n",
       "    }\n",
       "\n",
       "    .dataframe tbody tr th {\n",
       "        vertical-align: top;\n",
       "    }\n",
       "\n",
       "    .dataframe thead th {\n",
       "        text-align: right;\n",
       "    }\n",
       "</style>\n",
       "<table border=\"1\" class=\"dataframe\">\n",
       "  <thead>\n",
       "    <tr style=\"text-align: right;\">\n",
       "      <th></th>\n",
       "      <th>title</th>\n",
       "      <th>Director</th>\n",
       "      <th>Actors</th>\n",
       "      <th>Genre</th>\n",
       "      <th>Country</th>\n",
       "    </tr>\n",
       "  </thead>\n",
       "  <tbody>\n",
       "    <tr>\n",
       "      <th>0</th>\n",
       "      <td>Dick Johnson Is Dead</td>\n",
       "      <td>Kirsten Johnson</td>\n",
       "      <td>unknown actors</td>\n",
       "      <td>Documentaries</td>\n",
       "      <td>United States</td>\n",
       "    </tr>\n",
       "    <tr>\n",
       "      <th>1</th>\n",
       "      <td>Blood &amp; Water</td>\n",
       "      <td>unknown directors</td>\n",
       "      <td>Ama Qamata</td>\n",
       "      <td>International TV Shows</td>\n",
       "      <td>South Africa</td>\n",
       "    </tr>\n",
       "    <tr>\n",
       "      <th>2</th>\n",
       "      <td>Blood &amp; Water</td>\n",
       "      <td>unknown directors</td>\n",
       "      <td>Ama Qamata</td>\n",
       "      <td>TV Dramas</td>\n",
       "      <td>South Africa</td>\n",
       "    </tr>\n",
       "    <tr>\n",
       "      <th>3</th>\n",
       "      <td>Blood &amp; Water</td>\n",
       "      <td>unknown directors</td>\n",
       "      <td>Ama Qamata</td>\n",
       "      <td>TV Mysteries</td>\n",
       "      <td>South Africa</td>\n",
       "    </tr>\n",
       "    <tr>\n",
       "      <th>4</th>\n",
       "      <td>Blood &amp; Water</td>\n",
       "      <td>unknown directors</td>\n",
       "      <td>Khosi Ngema</td>\n",
       "      <td>International TV Shows</td>\n",
       "      <td>South Africa</td>\n",
       "    </tr>\n",
       "  </tbody>\n",
       "</table>\n",
       "</div>"
      ],
      "text/plain": [
       "                  title           Director          Actors  \\\n",
       "0  Dick Johnson Is Dead    Kirsten Johnson  unknown actors   \n",
       "1         Blood & Water  unknown directors      Ama Qamata   \n",
       "2         Blood & Water  unknown directors      Ama Qamata   \n",
       "3         Blood & Water  unknown directors      Ama Qamata   \n",
       "4         Blood & Water  unknown directors     Khosi Ngema   \n",
       "\n",
       "                    Genre        Country  \n",
       "0           Documentaries  United States  \n",
       "1  International TV Shows   South Africa  \n",
       "2               TV Dramas   South Africa  \n",
       "3            TV Mysteries   South Africa  \n",
       "4  International TV Shows   South Africa  "
      ]
     },
     "execution_count": 650,
     "metadata": {},
     "output_type": "execute_result"
    }
   ],
   "source": [
    "#merging all the data\n",
    "df_new5 = df_new2.merge(df_new1,on=['title'],how='inner')\n",
    "df_new6 = df_new5.merge(df_new3,on=['title'],how='inner')\n",
    "df_new = df_new6.merge(df_new4,on=['title'],how='inner')\n",
    "df_new['Actors'].replace(['nan'],['unknown actors'],inplace=True)\n",
    "df_new['Director'].replace(['nan'],['unknown directors'],inplace=True)\n",
    "df_new['Country'].replace(['nan'],[np.nan],inplace=True)\n",
    "df_new.head(5)"
   ]
  },
  {
   "cell_type": "code",
   "execution_count": 651,
   "id": "09843d5e",
   "metadata": {},
   "outputs": [
    {
     "data": {
      "text/html": [
       "<div>\n",
       "<style scoped>\n",
       "    .dataframe tbody tr th:only-of-type {\n",
       "        vertical-align: middle;\n",
       "    }\n",
       "\n",
       "    .dataframe tbody tr th {\n",
       "        vertical-align: top;\n",
       "    }\n",
       "\n",
       "    .dataframe thead th {\n",
       "        text-align: right;\n",
       "    }\n",
       "</style>\n",
       "<table border=\"1\" class=\"dataframe\">\n",
       "  <thead>\n",
       "    <tr style=\"text-align: right;\">\n",
       "      <th></th>\n",
       "      <th>title</th>\n",
       "      <th>Director</th>\n",
       "      <th>Actors</th>\n",
       "      <th>Genre</th>\n",
       "      <th>Country</th>\n",
       "      <th>show_id</th>\n",
       "      <th>type</th>\n",
       "      <th>date_added</th>\n",
       "      <th>release_year</th>\n",
       "      <th>rating</th>\n",
       "      <th>duration</th>\n",
       "    </tr>\n",
       "  </thead>\n",
       "  <tbody>\n",
       "    <tr>\n",
       "      <th>0</th>\n",
       "      <td>Dick Johnson Is Dead</td>\n",
       "      <td>Kirsten Johnson</td>\n",
       "      <td>unknown actors</td>\n",
       "      <td>Documentaries</td>\n",
       "      <td>United States</td>\n",
       "      <td>s1</td>\n",
       "      <td>Movie</td>\n",
       "      <td>September 25, 2021</td>\n",
       "      <td>2020</td>\n",
       "      <td>PG-13</td>\n",
       "      <td>90 min</td>\n",
       "    </tr>\n",
       "    <tr>\n",
       "      <th>1</th>\n",
       "      <td>Blood &amp; Water</td>\n",
       "      <td>unknown directors</td>\n",
       "      <td>Ama Qamata</td>\n",
       "      <td>International TV Shows</td>\n",
       "      <td>South Africa</td>\n",
       "      <td>s2</td>\n",
       "      <td>TV Show</td>\n",
       "      <td>September 24, 2021</td>\n",
       "      <td>2021</td>\n",
       "      <td>TV-MA</td>\n",
       "      <td>2 Seasons</td>\n",
       "    </tr>\n",
       "    <tr>\n",
       "      <th>2</th>\n",
       "      <td>Blood &amp; Water</td>\n",
       "      <td>unknown directors</td>\n",
       "      <td>Ama Qamata</td>\n",
       "      <td>TV Dramas</td>\n",
       "      <td>South Africa</td>\n",
       "      <td>s2</td>\n",
       "      <td>TV Show</td>\n",
       "      <td>September 24, 2021</td>\n",
       "      <td>2021</td>\n",
       "      <td>TV-MA</td>\n",
       "      <td>2 Seasons</td>\n",
       "    </tr>\n",
       "    <tr>\n",
       "      <th>3</th>\n",
       "      <td>Blood &amp; Water</td>\n",
       "      <td>unknown directors</td>\n",
       "      <td>Ama Qamata</td>\n",
       "      <td>TV Mysteries</td>\n",
       "      <td>South Africa</td>\n",
       "      <td>s2</td>\n",
       "      <td>TV Show</td>\n",
       "      <td>September 24, 2021</td>\n",
       "      <td>2021</td>\n",
       "      <td>TV-MA</td>\n",
       "      <td>2 Seasons</td>\n",
       "    </tr>\n",
       "    <tr>\n",
       "      <th>4</th>\n",
       "      <td>Blood &amp; Water</td>\n",
       "      <td>unknown directors</td>\n",
       "      <td>Khosi Ngema</td>\n",
       "      <td>International TV Shows</td>\n",
       "      <td>South Africa</td>\n",
       "      <td>s2</td>\n",
       "      <td>TV Show</td>\n",
       "      <td>September 24, 2021</td>\n",
       "      <td>2021</td>\n",
       "      <td>TV-MA</td>\n",
       "      <td>2 Seasons</td>\n",
       "    </tr>\n",
       "    <tr>\n",
       "      <th>5</th>\n",
       "      <td>Blood &amp; Water</td>\n",
       "      <td>unknown directors</td>\n",
       "      <td>Khosi Ngema</td>\n",
       "      <td>TV Dramas</td>\n",
       "      <td>South Africa</td>\n",
       "      <td>s2</td>\n",
       "      <td>TV Show</td>\n",
       "      <td>September 24, 2021</td>\n",
       "      <td>2021</td>\n",
       "      <td>TV-MA</td>\n",
       "      <td>2 Seasons</td>\n",
       "    </tr>\n",
       "    <tr>\n",
       "      <th>6</th>\n",
       "      <td>Blood &amp; Water</td>\n",
       "      <td>unknown directors</td>\n",
       "      <td>Khosi Ngema</td>\n",
       "      <td>TV Mysteries</td>\n",
       "      <td>South Africa</td>\n",
       "      <td>s2</td>\n",
       "      <td>TV Show</td>\n",
       "      <td>September 24, 2021</td>\n",
       "      <td>2021</td>\n",
       "      <td>TV-MA</td>\n",
       "      <td>2 Seasons</td>\n",
       "    </tr>\n",
       "    <tr>\n",
       "      <th>7</th>\n",
       "      <td>Blood &amp; Water</td>\n",
       "      <td>unknown directors</td>\n",
       "      <td>Gail Mabalane</td>\n",
       "      <td>International TV Shows</td>\n",
       "      <td>South Africa</td>\n",
       "      <td>s2</td>\n",
       "      <td>TV Show</td>\n",
       "      <td>September 24, 2021</td>\n",
       "      <td>2021</td>\n",
       "      <td>TV-MA</td>\n",
       "      <td>2 Seasons</td>\n",
       "    </tr>\n",
       "    <tr>\n",
       "      <th>8</th>\n",
       "      <td>Blood &amp; Water</td>\n",
       "      <td>unknown directors</td>\n",
       "      <td>Gail Mabalane</td>\n",
       "      <td>TV Dramas</td>\n",
       "      <td>South Africa</td>\n",
       "      <td>s2</td>\n",
       "      <td>TV Show</td>\n",
       "      <td>September 24, 2021</td>\n",
       "      <td>2021</td>\n",
       "      <td>TV-MA</td>\n",
       "      <td>2 Seasons</td>\n",
       "    </tr>\n",
       "    <tr>\n",
       "      <th>9</th>\n",
       "      <td>Blood &amp; Water</td>\n",
       "      <td>unknown directors</td>\n",
       "      <td>Gail Mabalane</td>\n",
       "      <td>TV Mysteries</td>\n",
       "      <td>South Africa</td>\n",
       "      <td>s2</td>\n",
       "      <td>TV Show</td>\n",
       "      <td>September 24, 2021</td>\n",
       "      <td>2021</td>\n",
       "      <td>TV-MA</td>\n",
       "      <td>2 Seasons</td>\n",
       "    </tr>\n",
       "  </tbody>\n",
       "</table>\n",
       "</div>"
      ],
      "text/plain": [
       "                  title           Director          Actors  \\\n",
       "0  Dick Johnson Is Dead    Kirsten Johnson  unknown actors   \n",
       "1         Blood & Water  unknown directors      Ama Qamata   \n",
       "2         Blood & Water  unknown directors      Ama Qamata   \n",
       "3         Blood & Water  unknown directors      Ama Qamata   \n",
       "4         Blood & Water  unknown directors     Khosi Ngema   \n",
       "5         Blood & Water  unknown directors     Khosi Ngema   \n",
       "6         Blood & Water  unknown directors     Khosi Ngema   \n",
       "7         Blood & Water  unknown directors   Gail Mabalane   \n",
       "8         Blood & Water  unknown directors   Gail Mabalane   \n",
       "9         Blood & Water  unknown directors   Gail Mabalane   \n",
       "\n",
       "                    Genre        Country show_id     type          date_added  \\\n",
       "0           Documentaries  United States      s1    Movie  September 25, 2021   \n",
       "1  International TV Shows   South Africa      s2  TV Show  September 24, 2021   \n",
       "2               TV Dramas   South Africa      s2  TV Show  September 24, 2021   \n",
       "3            TV Mysteries   South Africa      s2  TV Show  September 24, 2021   \n",
       "4  International TV Shows   South Africa      s2  TV Show  September 24, 2021   \n",
       "5               TV Dramas   South Africa      s2  TV Show  September 24, 2021   \n",
       "6            TV Mysteries   South Africa      s2  TV Show  September 24, 2021   \n",
       "7  International TV Shows   South Africa      s2  TV Show  September 24, 2021   \n",
       "8               TV Dramas   South Africa      s2  TV Show  September 24, 2021   \n",
       "9            TV Mysteries   South Africa      s2  TV Show  September 24, 2021   \n",
       "\n",
       "   release_year rating   duration  \n",
       "0          2020  PG-13     90 min  \n",
       "1          2021  TV-MA  2 Seasons  \n",
       "2          2021  TV-MA  2 Seasons  \n",
       "3          2021  TV-MA  2 Seasons  \n",
       "4          2021  TV-MA  2 Seasons  \n",
       "5          2021  TV-MA  2 Seasons  \n",
       "6          2021  TV-MA  2 Seasons  \n",
       "7          2021  TV-MA  2 Seasons  \n",
       "8          2021  TV-MA  2 Seasons  \n",
       "9          2021  TV-MA  2 Seasons  "
      ]
     },
     "execution_count": 651,
     "metadata": {},
     "output_type": "execute_result"
    }
   ],
   "source": [
    "#merging the data with basic dataset\n",
    "df_final = df_new.merge(df[['show_id','type','title','date_added','release_year','rating','duration']],on = ['title'],how = 'left')\n",
    "df_final.head(10)"
   ]
  },
  {
   "cell_type": "code",
   "execution_count": 652,
   "id": "f8708cde",
   "metadata": {},
   "outputs": [
    {
     "data": {
      "text/plain": [
       "title               0\n",
       "Director            0\n",
       "Actors              0\n",
       "Genre               0\n",
       "Country         11897\n",
       "show_id             0\n",
       "type                0\n",
       "date_added        158\n",
       "release_year        0\n",
       "rating             67\n",
       "duration            3\n",
       "dtype: int64"
      ]
     },
     "execution_count": 652,
     "metadata": {},
     "output_type": "execute_result"
    }
   ],
   "source": [
    "#checking for null values\n",
    "df_final.isnull().sum()"
   ]
  },
  {
   "cell_type": "markdown",
   "id": "761f5584",
   "metadata": {},
   "source": [
    "After taking care of comma seperated values, we have following null values:\n",
    "- Country : 11897\n",
    "- date_added : 158\n",
    "- rating : 67\n",
    "- duration : 3"
   ]
  },
  {
   "cell_type": "code",
   "execution_count": 653,
   "id": "3ccde938",
   "metadata": {},
   "outputs": [
    {
     "data": {
      "text/html": [
       "<div>\n",
       "<style scoped>\n",
       "    .dataframe tbody tr th:only-of-type {\n",
       "        vertical-align: middle;\n",
       "    }\n",
       "\n",
       "    .dataframe tbody tr th {\n",
       "        vertical-align: top;\n",
       "    }\n",
       "\n",
       "    .dataframe thead th {\n",
       "        text-align: right;\n",
       "    }\n",
       "</style>\n",
       "<table border=\"1\" class=\"dataframe\">\n",
       "  <thead>\n",
       "    <tr style=\"text-align: right;\">\n",
       "      <th></th>\n",
       "      <th>title</th>\n",
       "      <th>Director</th>\n",
       "      <th>Actors</th>\n",
       "      <th>Genre</th>\n",
       "      <th>Country</th>\n",
       "      <th>show_id</th>\n",
       "      <th>type</th>\n",
       "      <th>date_added</th>\n",
       "      <th>release_year</th>\n",
       "      <th>rating</th>\n",
       "      <th>duration</th>\n",
       "    </tr>\n",
       "  </thead>\n",
       "  <tbody>\n",
       "    <tr>\n",
       "      <th>126582</th>\n",
       "      <td>Louis C.K. 2017</td>\n",
       "      <td>Louis C.K.</td>\n",
       "      <td>Louis C.K.</td>\n",
       "      <td>Movies</td>\n",
       "      <td>United States</td>\n",
       "      <td>s5542</td>\n",
       "      <td>Movie</td>\n",
       "      <td>April 4, 2017</td>\n",
       "      <td>2017</td>\n",
       "      <td>74 min</td>\n",
       "      <td>NaN</td>\n",
       "    </tr>\n",
       "    <tr>\n",
       "      <th>131648</th>\n",
       "      <td>Louis C.K.: Hilarious</td>\n",
       "      <td>Louis C.K.</td>\n",
       "      <td>Louis C.K.</td>\n",
       "      <td>Movies</td>\n",
       "      <td>United States</td>\n",
       "      <td>s5795</td>\n",
       "      <td>Movie</td>\n",
       "      <td>September 16, 2016</td>\n",
       "      <td>2010</td>\n",
       "      <td>84 min</td>\n",
       "      <td>NaN</td>\n",
       "    </tr>\n",
       "    <tr>\n",
       "      <th>131782</th>\n",
       "      <td>Louis C.K.: Live at the Comedy Store</td>\n",
       "      <td>Louis C.K.</td>\n",
       "      <td>Louis C.K.</td>\n",
       "      <td>Movies</td>\n",
       "      <td>United States</td>\n",
       "      <td>s5814</td>\n",
       "      <td>Movie</td>\n",
       "      <td>August 15, 2016</td>\n",
       "      <td>2015</td>\n",
       "      <td>66 min</td>\n",
       "      <td>NaN</td>\n",
       "    </tr>\n",
       "  </tbody>\n",
       "</table>\n",
       "</div>"
      ],
      "text/plain": [
       "                                       title    Director      Actors   Genre  \\\n",
       "126582                       Louis C.K. 2017  Louis C.K.  Louis C.K.  Movies   \n",
       "131648                 Louis C.K.: Hilarious  Louis C.K.  Louis C.K.  Movies   \n",
       "131782  Louis C.K.: Live at the Comedy Store  Louis C.K.  Louis C.K.  Movies   \n",
       "\n",
       "              Country show_id   type          date_added  release_year  \\\n",
       "126582  United States   s5542  Movie       April 4, 2017          2017   \n",
       "131648  United States   s5795  Movie  September 16, 2016          2010   \n",
       "131782  United States   s5814  Movie     August 15, 2016          2015   \n",
       "\n",
       "        rating duration  \n",
       "126582  74 min      NaN  \n",
       "131648  84 min      NaN  \n",
       "131782  66 min      NaN  "
      ]
     },
     "execution_count": 653,
     "metadata": {},
     "output_type": "execute_result"
    }
   ],
   "source": [
    "#duration null value\n",
    "df_final.loc[df_final['duration'].isnull()]"
   ]
  },
  {
   "cell_type": "code",
   "execution_count": 654,
   "id": "2753d0c6",
   "metadata": {},
   "outputs": [],
   "source": [
    "#now rating can't be in number so replacing the value of rating with duration\n",
    "df_final.loc[df_final['duration'].isnull(),'duration'] = df_final.loc[df_final['duration'].isnull(), 'rating']\n",
    "df_final.loc[df_final['rating'].str.contains('min',na = False), 'rating'] = 'NR'\n",
    "df_final['rating'].fillna('NR',inplace = True)"
   ]
  },
  {
   "cell_type": "code",
   "execution_count": 655,
   "id": "01e423ef",
   "metadata": {},
   "outputs": [],
   "source": [
    "# handling missing data of date_added\n",
    "# we will replace the data with 1st Jan of release year\n",
    "index = list(df_final[df_final.isnull()['date_added'] == True].index)\n",
    "df_final.loc[index,'date_added'] = ['January 1, ' + str(i) for i in df_final.loc[index,'release_year']]"
   ]
  },
  {
   "cell_type": "code",
   "execution_count": 656,
   "id": "5824a9bc",
   "metadata": {},
   "outputs": [],
   "source": [
    "#changing all the Country null values to Unknow country\n",
    "df_final.loc[df_final['Country'].isnull(),'Country'] = 'Unknown Country'"
   ]
  },
  {
   "cell_type": "code",
   "execution_count": 657,
   "id": "3d445f73",
   "metadata": {},
   "outputs": [
    {
     "data": {
      "text/html": [
       "<div>\n",
       "<style scoped>\n",
       "    .dataframe tbody tr th:only-of-type {\n",
       "        vertical-align: middle;\n",
       "    }\n",
       "\n",
       "    .dataframe tbody tr th {\n",
       "        vertical-align: top;\n",
       "    }\n",
       "\n",
       "    .dataframe thead th {\n",
       "        text-align: right;\n",
       "    }\n",
       "</style>\n",
       "<table border=\"1\" class=\"dataframe\">\n",
       "  <thead>\n",
       "    <tr style=\"text-align: right;\">\n",
       "      <th></th>\n",
       "      <th>title</th>\n",
       "      <th>Director</th>\n",
       "      <th>Actors</th>\n",
       "      <th>Genre</th>\n",
       "      <th>Country</th>\n",
       "      <th>show_id</th>\n",
       "      <th>type</th>\n",
       "      <th>date_added</th>\n",
       "      <th>release_year</th>\n",
       "      <th>rating</th>\n",
       "      <th>duration</th>\n",
       "      <th>month</th>\n",
       "      <th>date</th>\n",
       "    </tr>\n",
       "  </thead>\n",
       "  <tbody>\n",
       "    <tr>\n",
       "      <th>0</th>\n",
       "      <td>Dick Johnson Is Dead</td>\n",
       "      <td>Kirsten Johnson</td>\n",
       "      <td>unknown actors</td>\n",
       "      <td>Documentaries</td>\n",
       "      <td>United States</td>\n",
       "      <td>s1</td>\n",
       "      <td>Movie</td>\n",
       "      <td>September 25, 2021</td>\n",
       "      <td>2020</td>\n",
       "      <td>PG-13</td>\n",
       "      <td>90 min</td>\n",
       "      <td>9</td>\n",
       "      <td>25</td>\n",
       "    </tr>\n",
       "    <tr>\n",
       "      <th>1</th>\n",
       "      <td>Blood &amp; Water</td>\n",
       "      <td>unknown directors</td>\n",
       "      <td>Ama Qamata</td>\n",
       "      <td>International TV Shows</td>\n",
       "      <td>South Africa</td>\n",
       "      <td>s2</td>\n",
       "      <td>TV Show</td>\n",
       "      <td>September 24, 2021</td>\n",
       "      <td>2021</td>\n",
       "      <td>TV-MA</td>\n",
       "      <td>2 Seasons</td>\n",
       "      <td>9</td>\n",
       "      <td>24</td>\n",
       "    </tr>\n",
       "    <tr>\n",
       "      <th>2</th>\n",
       "      <td>Blood &amp; Water</td>\n",
       "      <td>unknown directors</td>\n",
       "      <td>Ama Qamata</td>\n",
       "      <td>TV Dramas</td>\n",
       "      <td>South Africa</td>\n",
       "      <td>s2</td>\n",
       "      <td>TV Show</td>\n",
       "      <td>September 24, 2021</td>\n",
       "      <td>2021</td>\n",
       "      <td>TV-MA</td>\n",
       "      <td>2 Seasons</td>\n",
       "      <td>9</td>\n",
       "      <td>24</td>\n",
       "    </tr>\n",
       "    <tr>\n",
       "      <th>3</th>\n",
       "      <td>Blood &amp; Water</td>\n",
       "      <td>unknown directors</td>\n",
       "      <td>Ama Qamata</td>\n",
       "      <td>TV Mysteries</td>\n",
       "      <td>South Africa</td>\n",
       "      <td>s2</td>\n",
       "      <td>TV Show</td>\n",
       "      <td>September 24, 2021</td>\n",
       "      <td>2021</td>\n",
       "      <td>TV-MA</td>\n",
       "      <td>2 Seasons</td>\n",
       "      <td>9</td>\n",
       "      <td>24</td>\n",
       "    </tr>\n",
       "    <tr>\n",
       "      <th>4</th>\n",
       "      <td>Blood &amp; Water</td>\n",
       "      <td>unknown directors</td>\n",
       "      <td>Khosi Ngema</td>\n",
       "      <td>International TV Shows</td>\n",
       "      <td>South Africa</td>\n",
       "      <td>s2</td>\n",
       "      <td>TV Show</td>\n",
       "      <td>September 24, 2021</td>\n",
       "      <td>2021</td>\n",
       "      <td>TV-MA</td>\n",
       "      <td>2 Seasons</td>\n",
       "      <td>9</td>\n",
       "      <td>24</td>\n",
       "    </tr>\n",
       "    <tr>\n",
       "      <th>5</th>\n",
       "      <td>Blood &amp; Water</td>\n",
       "      <td>unknown directors</td>\n",
       "      <td>Khosi Ngema</td>\n",
       "      <td>TV Dramas</td>\n",
       "      <td>South Africa</td>\n",
       "      <td>s2</td>\n",
       "      <td>TV Show</td>\n",
       "      <td>September 24, 2021</td>\n",
       "      <td>2021</td>\n",
       "      <td>TV-MA</td>\n",
       "      <td>2 Seasons</td>\n",
       "      <td>9</td>\n",
       "      <td>24</td>\n",
       "    </tr>\n",
       "    <tr>\n",
       "      <th>6</th>\n",
       "      <td>Blood &amp; Water</td>\n",
       "      <td>unknown directors</td>\n",
       "      <td>Khosi Ngema</td>\n",
       "      <td>TV Mysteries</td>\n",
       "      <td>South Africa</td>\n",
       "      <td>s2</td>\n",
       "      <td>TV Show</td>\n",
       "      <td>September 24, 2021</td>\n",
       "      <td>2021</td>\n",
       "      <td>TV-MA</td>\n",
       "      <td>2 Seasons</td>\n",
       "      <td>9</td>\n",
       "      <td>24</td>\n",
       "    </tr>\n",
       "    <tr>\n",
       "      <th>7</th>\n",
       "      <td>Blood &amp; Water</td>\n",
       "      <td>unknown directors</td>\n",
       "      <td>Gail Mabalane</td>\n",
       "      <td>International TV Shows</td>\n",
       "      <td>South Africa</td>\n",
       "      <td>s2</td>\n",
       "      <td>TV Show</td>\n",
       "      <td>September 24, 2021</td>\n",
       "      <td>2021</td>\n",
       "      <td>TV-MA</td>\n",
       "      <td>2 Seasons</td>\n",
       "      <td>9</td>\n",
       "      <td>24</td>\n",
       "    </tr>\n",
       "    <tr>\n",
       "      <th>8</th>\n",
       "      <td>Blood &amp; Water</td>\n",
       "      <td>unknown directors</td>\n",
       "      <td>Gail Mabalane</td>\n",
       "      <td>TV Dramas</td>\n",
       "      <td>South Africa</td>\n",
       "      <td>s2</td>\n",
       "      <td>TV Show</td>\n",
       "      <td>September 24, 2021</td>\n",
       "      <td>2021</td>\n",
       "      <td>TV-MA</td>\n",
       "      <td>2 Seasons</td>\n",
       "      <td>9</td>\n",
       "      <td>24</td>\n",
       "    </tr>\n",
       "    <tr>\n",
       "      <th>9</th>\n",
       "      <td>Blood &amp; Water</td>\n",
       "      <td>unknown directors</td>\n",
       "      <td>Gail Mabalane</td>\n",
       "      <td>TV Mysteries</td>\n",
       "      <td>South Africa</td>\n",
       "      <td>s2</td>\n",
       "      <td>TV Show</td>\n",
       "      <td>September 24, 2021</td>\n",
       "      <td>2021</td>\n",
       "      <td>TV-MA</td>\n",
       "      <td>2 Seasons</td>\n",
       "      <td>9</td>\n",
       "      <td>24</td>\n",
       "    </tr>\n",
       "  </tbody>\n",
       "</table>\n",
       "</div>"
      ],
      "text/plain": [
       "                  title           Director          Actors  \\\n",
       "0  Dick Johnson Is Dead    Kirsten Johnson  unknown actors   \n",
       "1         Blood & Water  unknown directors      Ama Qamata   \n",
       "2         Blood & Water  unknown directors      Ama Qamata   \n",
       "3         Blood & Water  unknown directors      Ama Qamata   \n",
       "4         Blood & Water  unknown directors     Khosi Ngema   \n",
       "5         Blood & Water  unknown directors     Khosi Ngema   \n",
       "6         Blood & Water  unknown directors     Khosi Ngema   \n",
       "7         Blood & Water  unknown directors   Gail Mabalane   \n",
       "8         Blood & Water  unknown directors   Gail Mabalane   \n",
       "9         Blood & Water  unknown directors   Gail Mabalane   \n",
       "\n",
       "                    Genre        Country show_id     type          date_added  \\\n",
       "0           Documentaries  United States      s1    Movie  September 25, 2021   \n",
       "1  International TV Shows   South Africa      s2  TV Show  September 24, 2021   \n",
       "2               TV Dramas   South Africa      s2  TV Show  September 24, 2021   \n",
       "3            TV Mysteries   South Africa      s2  TV Show  September 24, 2021   \n",
       "4  International TV Shows   South Africa      s2  TV Show  September 24, 2021   \n",
       "5               TV Dramas   South Africa      s2  TV Show  September 24, 2021   \n",
       "6            TV Mysteries   South Africa      s2  TV Show  September 24, 2021   \n",
       "7  International TV Shows   South Africa      s2  TV Show  September 24, 2021   \n",
       "8               TV Dramas   South Africa      s2  TV Show  September 24, 2021   \n",
       "9            TV Mysteries   South Africa      s2  TV Show  September 24, 2021   \n",
       "\n",
       "   release_year rating   duration  month  date  \n",
       "0          2020  PG-13     90 min      9    25  \n",
       "1          2021  TV-MA  2 Seasons      9    24  \n",
       "2          2021  TV-MA  2 Seasons      9    24  \n",
       "3          2021  TV-MA  2 Seasons      9    24  \n",
       "4          2021  TV-MA  2 Seasons      9    24  \n",
       "5          2021  TV-MA  2 Seasons      9    24  \n",
       "6          2021  TV-MA  2 Seasons      9    24  \n",
       "7          2021  TV-MA  2 Seasons      9    24  \n",
       "8          2021  TV-MA  2 Seasons      9    24  \n",
       "9          2021  TV-MA  2 Seasons      9    24  "
      ]
     },
     "execution_count": 657,
     "metadata": {},
     "output_type": "execute_result"
    }
   ],
   "source": [
    "#changing the date type and separting the month and date\n",
    "df_final['month'] = pd.to_datetime(df_final['date_added']).dt.month\n",
    "df_final['date'] = pd.to_datetime(df_final['date_added']).dt.day\n",
    "df_final.head(10)"
   ]
  },
  {
   "cell_type": "code",
   "execution_count": 658,
   "id": "bdb425e5",
   "metadata": {},
   "outputs": [
    {
     "data": {
      "text/html": [
       "<div>\n",
       "<style scoped>\n",
       "    .dataframe tbody tr th:only-of-type {\n",
       "        vertical-align: middle;\n",
       "    }\n",
       "\n",
       "    .dataframe tbody tr th {\n",
       "        vertical-align: top;\n",
       "    }\n",
       "\n",
       "    .dataframe thead th {\n",
       "        text-align: right;\n",
       "    }\n",
       "</style>\n",
       "<table border=\"1\" class=\"dataframe\">\n",
       "  <thead>\n",
       "    <tr style=\"text-align: right;\">\n",
       "      <th></th>\n",
       "      <th>title</th>\n",
       "      <th>Director</th>\n",
       "      <th>Actors</th>\n",
       "      <th>Genre</th>\n",
       "      <th>Country</th>\n",
       "      <th>show_id</th>\n",
       "      <th>type</th>\n",
       "      <th>date_added</th>\n",
       "      <th>release_year</th>\n",
       "      <th>rating</th>\n",
       "      <th>duration</th>\n",
       "      <th>month</th>\n",
       "      <th>date</th>\n",
       "    </tr>\n",
       "  </thead>\n",
       "  <tbody>\n",
       "    <tr>\n",
       "      <th>39354</th>\n",
       "      <td>Rust Creek</td>\n",
       "      <td>Jen McGowan</td>\n",
       "      <td>Micah Hauptman</td>\n",
       "      <td>Thrillers</td>\n",
       "      <td>United States</td>\n",
       "      <td>s1632</td>\n",
       "      <td>Movie</td>\n",
       "      <td>November 30, 2020</td>\n",
       "      <td>2018</td>\n",
       "      <td>R</td>\n",
       "      <td>108 min</td>\n",
       "      <td>11</td>\n",
       "      <td>30</td>\n",
       "    </tr>\n",
       "    <tr>\n",
       "      <th>135656</th>\n",
       "      <td>300 Miles to Heaven</td>\n",
       "      <td>Maciej Dejczer</td>\n",
       "      <td>Adrianna Biedrzyńska</td>\n",
       "      <td>Dramas</td>\n",
       "      <td>Denmark</td>\n",
       "      <td>s6014</td>\n",
       "      <td>Movie</td>\n",
       "      <td>October 1, 2019</td>\n",
       "      <td>1989</td>\n",
       "      <td>TV-14</td>\n",
       "      <td>93 min</td>\n",
       "      <td>10</td>\n",
       "      <td>1</td>\n",
       "    </tr>\n",
       "    <tr>\n",
       "      <th>135657</th>\n",
       "      <td>300 Miles to Heaven</td>\n",
       "      <td>Maciej Dejczer</td>\n",
       "      <td>Adrianna Biedrzyńska</td>\n",
       "      <td>Dramas</td>\n",
       "      <td>France</td>\n",
       "      <td>s6014</td>\n",
       "      <td>Movie</td>\n",
       "      <td>October 1, 2019</td>\n",
       "      <td>1989</td>\n",
       "      <td>TV-14</td>\n",
       "      <td>93 min</td>\n",
       "      <td>10</td>\n",
       "      <td>1</td>\n",
       "    </tr>\n",
       "    <tr>\n",
       "      <th>135658</th>\n",
       "      <td>300 Miles to Heaven</td>\n",
       "      <td>Maciej Dejczer</td>\n",
       "      <td>Adrianna Biedrzyńska</td>\n",
       "      <td>Dramas</td>\n",
       "      <td>Poland</td>\n",
       "      <td>s6014</td>\n",
       "      <td>Movie</td>\n",
       "      <td>October 1, 2019</td>\n",
       "      <td>1989</td>\n",
       "      <td>TV-14</td>\n",
       "      <td>93 min</td>\n",
       "      <td>10</td>\n",
       "      <td>1</td>\n",
       "    </tr>\n",
       "    <tr>\n",
       "      <th>135659</th>\n",
       "      <td>300 Miles to Heaven</td>\n",
       "      <td>Maciej Dejczer</td>\n",
       "      <td>Adrianna Biedrzyńska</td>\n",
       "      <td>International Movies</td>\n",
       "      <td>Denmark</td>\n",
       "      <td>s6014</td>\n",
       "      <td>Movie</td>\n",
       "      <td>October 1, 2019</td>\n",
       "      <td>1989</td>\n",
       "      <td>TV-14</td>\n",
       "      <td>93 min</td>\n",
       "      <td>10</td>\n",
       "      <td>1</td>\n",
       "    </tr>\n",
       "    <tr>\n",
       "      <th>135660</th>\n",
       "      <td>300 Miles to Heaven</td>\n",
       "      <td>Maciej Dejczer</td>\n",
       "      <td>Adrianna Biedrzyńska</td>\n",
       "      <td>International Movies</td>\n",
       "      <td>France</td>\n",
       "      <td>s6014</td>\n",
       "      <td>Movie</td>\n",
       "      <td>October 1, 2019</td>\n",
       "      <td>1989</td>\n",
       "      <td>TV-14</td>\n",
       "      <td>93 min</td>\n",
       "      <td>10</td>\n",
       "      <td>1</td>\n",
       "    </tr>\n",
       "    <tr>\n",
       "      <th>135661</th>\n",
       "      <td>300 Miles to Heaven</td>\n",
       "      <td>Maciej Dejczer</td>\n",
       "      <td>Adrianna Biedrzyńska</td>\n",
       "      <td>International Movies</td>\n",
       "      <td>Poland</td>\n",
       "      <td>s6014</td>\n",
       "      <td>Movie</td>\n",
       "      <td>October 1, 2019</td>\n",
       "      <td>1989</td>\n",
       "      <td>TV-14</td>\n",
       "      <td>93 min</td>\n",
       "      <td>10</td>\n",
       "      <td>1</td>\n",
       "    </tr>\n",
       "  </tbody>\n",
       "</table>\n",
       "</div>"
      ],
      "text/plain": [
       "                      title        Director                 Actors  \\\n",
       "39354            Rust Creek     Jen McGowan         Micah Hauptman   \n",
       "135656  300 Miles to Heaven  Maciej Dejczer   Adrianna Biedrzyńska   \n",
       "135657  300 Miles to Heaven  Maciej Dejczer   Adrianna Biedrzyńska   \n",
       "135658  300 Miles to Heaven  Maciej Dejczer   Adrianna Biedrzyńska   \n",
       "135659  300 Miles to Heaven  Maciej Dejczer   Adrianna Biedrzyńska   \n",
       "135660  300 Miles to Heaven  Maciej Dejczer   Adrianna Biedrzyńska   \n",
       "135661  300 Miles to Heaven  Maciej Dejczer   Adrianna Biedrzyńska   \n",
       "\n",
       "                        Genre        Country show_id   type  \\\n",
       "39354               Thrillers  United States   s1632  Movie   \n",
       "135656                 Dramas        Denmark   s6014  Movie   \n",
       "135657                 Dramas         France   s6014  Movie   \n",
       "135658                 Dramas         Poland   s6014  Movie   \n",
       "135659   International Movies        Denmark   s6014  Movie   \n",
       "135660   International Movies         France   s6014  Movie   \n",
       "135661   International Movies         Poland   s6014  Movie   \n",
       "\n",
       "               date_added  release_year rating duration  month  date  \n",
       "39354   November 30, 2020          2018      R  108 min     11    30  \n",
       "135656    October 1, 2019          1989  TV-14   93 min     10     1  \n",
       "135657    October 1, 2019          1989  TV-14   93 min     10     1  \n",
       "135658    October 1, 2019          1989  TV-14   93 min     10     1  \n",
       "135659    October 1, 2019          1989  TV-14   93 min     10     1  \n",
       "135660    October 1, 2019          1989  TV-14   93 min     10     1  \n",
       "135661    October 1, 2019          1989  TV-14   93 min     10     1  "
      ]
     },
     "execution_count": 658,
     "metadata": {},
     "output_type": "execute_result"
    }
   ],
   "source": [
    "#checking for duplicates\n",
    "df_final.loc[df_final.duplicated()]"
   ]
  },
  {
   "cell_type": "code",
   "execution_count": 659,
   "id": "8d4003a6",
   "metadata": {},
   "outputs": [],
   "source": [
    "#dropping Duplicates\n",
    "df_final.drop_duplicates(inplace = True)"
   ]
  },
  {
   "cell_type": "code",
   "execution_count": 660,
   "id": "386c6b67",
   "metadata": {},
   "outputs": [
    {
     "name": "stdout",
     "output_type": "stream",
     "text": [
      "<class 'pandas.core.frame.DataFrame'>\n",
      "Int64Index: 202058 entries, 0 to 202064\n",
      "Data columns (total 13 columns):\n",
      " #   Column        Non-Null Count   Dtype \n",
      "---  ------        --------------   ----- \n",
      " 0   title         202058 non-null  object\n",
      " 1   Director      202058 non-null  object\n",
      " 2   Actors        202058 non-null  object\n",
      " 3   Genre         202058 non-null  object\n",
      " 4   Country       202058 non-null  object\n",
      " 5   show_id       202058 non-null  object\n",
      " 6   type          202058 non-null  object\n",
      " 7   date_added    202058 non-null  object\n",
      " 8   release_year  202058 non-null  int64 \n",
      " 9   rating        202058 non-null  object\n",
      " 10  duration      202058 non-null  object\n",
      " 11  month         202058 non-null  int64 \n",
      " 12  date          202058 non-null  int64 \n",
      "dtypes: int64(3), object(10)\n",
      "memory usage: 21.6+ MB\n"
     ]
    }
   ],
   "source": [
    "df_final.info()"
   ]
  },
  {
   "cell_type": "code",
   "execution_count": 661,
   "id": "272d3f4f",
   "metadata": {},
   "outputs": [
    {
     "data": {
      "text/html": [
       "<div>\n",
       "<style scoped>\n",
       "    .dataframe tbody tr th:only-of-type {\n",
       "        vertical-align: middle;\n",
       "    }\n",
       "\n",
       "    .dataframe tbody tr th {\n",
       "        vertical-align: top;\n",
       "    }\n",
       "\n",
       "    .dataframe thead th {\n",
       "        text-align: right;\n",
       "    }\n",
       "</style>\n",
       "<table border=\"1\" class=\"dataframe\">\n",
       "  <thead>\n",
       "    <tr style=\"text-align: right;\">\n",
       "      <th></th>\n",
       "      <th>title</th>\n",
       "      <th>Director</th>\n",
       "      <th>Actors</th>\n",
       "      <th>Genre</th>\n",
       "      <th>Country</th>\n",
       "      <th>show_id</th>\n",
       "      <th>type</th>\n",
       "      <th>date_added</th>\n",
       "      <th>release_year</th>\n",
       "      <th>rating</th>\n",
       "      <th>duration</th>\n",
       "      <th>month</th>\n",
       "      <th>date</th>\n",
       "    </tr>\n",
       "  </thead>\n",
       "  <tbody>\n",
       "    <tr>\n",
       "      <th>count</th>\n",
       "      <td>202058</td>\n",
       "      <td>202058</td>\n",
       "      <td>202058</td>\n",
       "      <td>202058</td>\n",
       "      <td>202058</td>\n",
       "      <td>202058</td>\n",
       "      <td>202058</td>\n",
       "      <td>202058</td>\n",
       "      <td>202058.000000</td>\n",
       "      <td>202058</td>\n",
       "      <td>202058</td>\n",
       "      <td>202058.000000</td>\n",
       "      <td>202058.00000</td>\n",
       "    </tr>\n",
       "    <tr>\n",
       "      <th>unique</th>\n",
       "      <td>8807</td>\n",
       "      <td>5121</td>\n",
       "      <td>39297</td>\n",
       "      <td>73</td>\n",
       "      <td>198</td>\n",
       "      <td>8807</td>\n",
       "      <td>2</td>\n",
       "      <td>1772</td>\n",
       "      <td>NaN</td>\n",
       "      <td>14</td>\n",
       "      <td>220</td>\n",
       "      <td>NaN</td>\n",
       "      <td>NaN</td>\n",
       "    </tr>\n",
       "    <tr>\n",
       "      <th>top</th>\n",
       "      <td>Kahlil Gibran's The Prophet</td>\n",
       "      <td>unknown directors</td>\n",
       "      <td>unknown actors</td>\n",
       "      <td>International Movies</td>\n",
       "      <td>United States</td>\n",
       "      <td>s7165</td>\n",
       "      <td>Movie</td>\n",
       "      <td>January 1, 2020</td>\n",
       "      <td>NaN</td>\n",
       "      <td>TV-MA</td>\n",
       "      <td>1 Season</td>\n",
       "      <td>NaN</td>\n",
       "      <td>NaN</td>\n",
       "    </tr>\n",
       "    <tr>\n",
       "      <th>freq</th>\n",
       "      <td>700</td>\n",
       "      <td>50643</td>\n",
       "      <td>2149</td>\n",
       "      <td>27138</td>\n",
       "      <td>49867</td>\n",
       "      <td>700</td>\n",
       "      <td>145910</td>\n",
       "      <td>3730</td>\n",
       "      <td>NaN</td>\n",
       "      <td>73915</td>\n",
       "      <td>35035</td>\n",
       "      <td>NaN</td>\n",
       "      <td>NaN</td>\n",
       "    </tr>\n",
       "    <tr>\n",
       "      <th>mean</th>\n",
       "      <td>NaN</td>\n",
       "      <td>NaN</td>\n",
       "      <td>NaN</td>\n",
       "      <td>NaN</td>\n",
       "      <td>NaN</td>\n",
       "      <td>NaN</td>\n",
       "      <td>NaN</td>\n",
       "      <td>NaN</td>\n",
       "      <td>2013.449653</td>\n",
       "      <td>NaN</td>\n",
       "      <td>NaN</td>\n",
       "      <td>6.632017</td>\n",
       "      <td>12.17493</td>\n",
       "    </tr>\n",
       "    <tr>\n",
       "      <th>std</th>\n",
       "      <td>NaN</td>\n",
       "      <td>NaN</td>\n",
       "      <td>NaN</td>\n",
       "      <td>NaN</td>\n",
       "      <td>NaN</td>\n",
       "      <td>NaN</td>\n",
       "      <td>NaN</td>\n",
       "      <td>NaN</td>\n",
       "      <td>9.012781</td>\n",
       "      <td>NaN</td>\n",
       "      <td>NaN</td>\n",
       "      <td>3.444465</td>\n",
       "      <td>9.84815</td>\n",
       "    </tr>\n",
       "    <tr>\n",
       "      <th>min</th>\n",
       "      <td>NaN</td>\n",
       "      <td>NaN</td>\n",
       "      <td>NaN</td>\n",
       "      <td>NaN</td>\n",
       "      <td>NaN</td>\n",
       "      <td>NaN</td>\n",
       "      <td>NaN</td>\n",
       "      <td>NaN</td>\n",
       "      <td>1925.000000</td>\n",
       "      <td>NaN</td>\n",
       "      <td>NaN</td>\n",
       "      <td>1.000000</td>\n",
       "      <td>1.00000</td>\n",
       "    </tr>\n",
       "    <tr>\n",
       "      <th>25%</th>\n",
       "      <td>NaN</td>\n",
       "      <td>NaN</td>\n",
       "      <td>NaN</td>\n",
       "      <td>NaN</td>\n",
       "      <td>NaN</td>\n",
       "      <td>NaN</td>\n",
       "      <td>NaN</td>\n",
       "      <td>NaN</td>\n",
       "      <td>2012.000000</td>\n",
       "      <td>NaN</td>\n",
       "      <td>NaN</td>\n",
       "      <td>4.000000</td>\n",
       "      <td>1.00000</td>\n",
       "    </tr>\n",
       "    <tr>\n",
       "      <th>50%</th>\n",
       "      <td>NaN</td>\n",
       "      <td>NaN</td>\n",
       "      <td>NaN</td>\n",
       "      <td>NaN</td>\n",
       "      <td>NaN</td>\n",
       "      <td>NaN</td>\n",
       "      <td>NaN</td>\n",
       "      <td>NaN</td>\n",
       "      <td>2016.000000</td>\n",
       "      <td>NaN</td>\n",
       "      <td>NaN</td>\n",
       "      <td>7.000000</td>\n",
       "      <td>12.00000</td>\n",
       "    </tr>\n",
       "    <tr>\n",
       "      <th>75%</th>\n",
       "      <td>NaN</td>\n",
       "      <td>NaN</td>\n",
       "      <td>NaN</td>\n",
       "      <td>NaN</td>\n",
       "      <td>NaN</td>\n",
       "      <td>NaN</td>\n",
       "      <td>NaN</td>\n",
       "      <td>NaN</td>\n",
       "      <td>2019.000000</td>\n",
       "      <td>NaN</td>\n",
       "      <td>NaN</td>\n",
       "      <td>10.000000</td>\n",
       "      <td>20.00000</td>\n",
       "    </tr>\n",
       "    <tr>\n",
       "      <th>max</th>\n",
       "      <td>NaN</td>\n",
       "      <td>NaN</td>\n",
       "      <td>NaN</td>\n",
       "      <td>NaN</td>\n",
       "      <td>NaN</td>\n",
       "      <td>NaN</td>\n",
       "      <td>NaN</td>\n",
       "      <td>NaN</td>\n",
       "      <td>2021.000000</td>\n",
       "      <td>NaN</td>\n",
       "      <td>NaN</td>\n",
       "      <td>12.000000</td>\n",
       "      <td>31.00000</td>\n",
       "    </tr>\n",
       "  </tbody>\n",
       "</table>\n",
       "</div>"
      ],
      "text/plain": [
       "                              title           Director          Actors  \\\n",
       "count                        202058             202058          202058   \n",
       "unique                         8807               5121           39297   \n",
       "top     Kahlil Gibran's The Prophet  unknown directors  unknown actors   \n",
       "freq                            700              50643            2149   \n",
       "mean                            NaN                NaN             NaN   \n",
       "std                             NaN                NaN             NaN   \n",
       "min                             NaN                NaN             NaN   \n",
       "25%                             NaN                NaN             NaN   \n",
       "50%                             NaN                NaN             NaN   \n",
       "75%                             NaN                NaN             NaN   \n",
       "max                             NaN                NaN             NaN   \n",
       "\n",
       "                        Genre        Country show_id    type       date_added  \\\n",
       "count                  202058         202058  202058  202058           202058   \n",
       "unique                     73            198    8807       2             1772   \n",
       "top      International Movies  United States   s7165   Movie  January 1, 2020   \n",
       "freq                    27138          49867     700  145910             3730   \n",
       "mean                      NaN            NaN     NaN     NaN              NaN   \n",
       "std                       NaN            NaN     NaN     NaN              NaN   \n",
       "min                       NaN            NaN     NaN     NaN              NaN   \n",
       "25%                       NaN            NaN     NaN     NaN              NaN   \n",
       "50%                       NaN            NaN     NaN     NaN              NaN   \n",
       "75%                       NaN            NaN     NaN     NaN              NaN   \n",
       "max                       NaN            NaN     NaN     NaN              NaN   \n",
       "\n",
       "         release_year  rating  duration          month          date  \n",
       "count   202058.000000  202058    202058  202058.000000  202058.00000  \n",
       "unique            NaN      14       220            NaN           NaN  \n",
       "top               NaN   TV-MA  1 Season            NaN           NaN  \n",
       "freq              NaN   73915     35035            NaN           NaN  \n",
       "mean      2013.449653     NaN       NaN       6.632017      12.17493  \n",
       "std          9.012781     NaN       NaN       3.444465       9.84815  \n",
       "min       1925.000000     NaN       NaN       1.000000       1.00000  \n",
       "25%       2012.000000     NaN       NaN       4.000000       1.00000  \n",
       "50%       2016.000000     NaN       NaN       7.000000      12.00000  \n",
       "75%       2019.000000     NaN       NaN      10.000000      20.00000  \n",
       "max       2021.000000     NaN       NaN      12.000000      31.00000  "
      ]
     },
     "execution_count": 661,
     "metadata": {},
     "output_type": "execute_result"
    }
   ],
   "source": [
    "df_final.describe(include='all')"
   ]
  },
  {
   "cell_type": "code",
   "execution_count": 662,
   "id": "51059104",
   "metadata": {},
   "outputs": [],
   "source": [
    "# now we dont have any missing values so we can start analysing the data"
   ]
  },
  {
   "cell_type": "code",
   "execution_count": 663,
   "id": "8e12c58a",
   "metadata": {},
   "outputs": [
    {
     "data": {
      "text/html": [
       "<div>\n",
       "<style scoped>\n",
       "    .dataframe tbody tr th:only-of-type {\n",
       "        vertical-align: middle;\n",
       "    }\n",
       "\n",
       "    .dataframe tbody tr th {\n",
       "        vertical-align: top;\n",
       "    }\n",
       "\n",
       "    .dataframe thead th {\n",
       "        text-align: right;\n",
       "    }\n",
       "</style>\n",
       "<table border=\"1\" class=\"dataframe\">\n",
       "  <thead>\n",
       "    <tr style=\"text-align: right;\">\n",
       "      <th></th>\n",
       "      <th>title</th>\n",
       "      <th>Director</th>\n",
       "      <th>Actors</th>\n",
       "      <th>Genre</th>\n",
       "      <th>Country</th>\n",
       "      <th>show_id</th>\n",
       "      <th>type</th>\n",
       "      <th>date_added</th>\n",
       "      <th>release_year</th>\n",
       "      <th>rating</th>\n",
       "      <th>duration</th>\n",
       "      <th>month</th>\n",
       "      <th>date</th>\n",
       "    </tr>\n",
       "  </thead>\n",
       "  <tbody>\n",
       "    <tr>\n",
       "      <th>0</th>\n",
       "      <td>Dick Johnson Is Dead</td>\n",
       "      <td>Kirsten Johnson</td>\n",
       "      <td>unknown actors</td>\n",
       "      <td>Documentaries</td>\n",
       "      <td>United States</td>\n",
       "      <td>s1</td>\n",
       "      <td>Movie</td>\n",
       "      <td>September 25, 2021</td>\n",
       "      <td>2020</td>\n",
       "      <td>PG-13</td>\n",
       "      <td>90 min</td>\n",
       "      <td>9</td>\n",
       "      <td>25</td>\n",
       "    </tr>\n",
       "    <tr>\n",
       "      <th>1</th>\n",
       "      <td>Blood &amp; Water</td>\n",
       "      <td>unknown directors</td>\n",
       "      <td>Ama Qamata</td>\n",
       "      <td>International TV Shows</td>\n",
       "      <td>South Africa</td>\n",
       "      <td>s2</td>\n",
       "      <td>TV Show</td>\n",
       "      <td>September 24, 2021</td>\n",
       "      <td>2021</td>\n",
       "      <td>TV-MA</td>\n",
       "      <td>2 Seasons</td>\n",
       "      <td>9</td>\n",
       "      <td>24</td>\n",
       "    </tr>\n",
       "    <tr>\n",
       "      <th>2</th>\n",
       "      <td>Blood &amp; Water</td>\n",
       "      <td>unknown directors</td>\n",
       "      <td>Ama Qamata</td>\n",
       "      <td>TV Dramas</td>\n",
       "      <td>South Africa</td>\n",
       "      <td>s2</td>\n",
       "      <td>TV Show</td>\n",
       "      <td>September 24, 2021</td>\n",
       "      <td>2021</td>\n",
       "      <td>TV-MA</td>\n",
       "      <td>2 Seasons</td>\n",
       "      <td>9</td>\n",
       "      <td>24</td>\n",
       "    </tr>\n",
       "    <tr>\n",
       "      <th>3</th>\n",
       "      <td>Blood &amp; Water</td>\n",
       "      <td>unknown directors</td>\n",
       "      <td>Ama Qamata</td>\n",
       "      <td>TV Mysteries</td>\n",
       "      <td>South Africa</td>\n",
       "      <td>s2</td>\n",
       "      <td>TV Show</td>\n",
       "      <td>September 24, 2021</td>\n",
       "      <td>2021</td>\n",
       "      <td>TV-MA</td>\n",
       "      <td>2 Seasons</td>\n",
       "      <td>9</td>\n",
       "      <td>24</td>\n",
       "    </tr>\n",
       "    <tr>\n",
       "      <th>4</th>\n",
       "      <td>Blood &amp; Water</td>\n",
       "      <td>unknown directors</td>\n",
       "      <td>Khosi Ngema</td>\n",
       "      <td>International TV Shows</td>\n",
       "      <td>South Africa</td>\n",
       "      <td>s2</td>\n",
       "      <td>TV Show</td>\n",
       "      <td>September 24, 2021</td>\n",
       "      <td>2021</td>\n",
       "      <td>TV-MA</td>\n",
       "      <td>2 Seasons</td>\n",
       "      <td>9</td>\n",
       "      <td>24</td>\n",
       "    </tr>\n",
       "  </tbody>\n",
       "</table>\n",
       "</div>"
      ],
      "text/plain": [
       "                  title           Director          Actors  \\\n",
       "0  Dick Johnson Is Dead    Kirsten Johnson  unknown actors   \n",
       "1         Blood & Water  unknown directors      Ama Qamata   \n",
       "2         Blood & Water  unknown directors      Ama Qamata   \n",
       "3         Blood & Water  unknown directors      Ama Qamata   \n",
       "4         Blood & Water  unknown directors     Khosi Ngema   \n",
       "\n",
       "                    Genre        Country show_id     type          date_added  \\\n",
       "0           Documentaries  United States      s1    Movie  September 25, 2021   \n",
       "1  International TV Shows   South Africa      s2  TV Show  September 24, 2021   \n",
       "2               TV Dramas   South Africa      s2  TV Show  September 24, 2021   \n",
       "3            TV Mysteries   South Africa      s2  TV Show  September 24, 2021   \n",
       "4  International TV Shows   South Africa      s2  TV Show  September 24, 2021   \n",
       "\n",
       "   release_year rating   duration  month  date  \n",
       "0          2020  PG-13     90 min      9    25  \n",
       "1          2021  TV-MA  2 Seasons      9    24  \n",
       "2          2021  TV-MA  2 Seasons      9    24  \n",
       "3          2021  TV-MA  2 Seasons      9    24  \n",
       "4          2021  TV-MA  2 Seasons      9    24  "
      ]
     },
     "execution_count": 663,
     "metadata": {},
     "output_type": "execute_result"
    }
   ],
   "source": [
    "df_final.head(5)"
   ]
  },
  {
   "cell_type": "code",
   "execution_count": 664,
   "id": "7deb0d39",
   "metadata": {},
   "outputs": [
    {
     "data": {
      "text/plain": [
       "8807"
      ]
     },
     "execution_count": 664,
     "metadata": {},
     "output_type": "execute_result"
    }
   ],
   "source": [
    "df_final['title'].nunique() # we have 8807 unique movies"
   ]
  },
  {
   "cell_type": "code",
   "execution_count": 665,
   "id": "f848ff33",
   "metadata": {},
   "outputs": [
    {
     "data": {
      "application/vnd.plotly.v1+json": {
       "config": {
        "plotlyServerURL": "https://plot.ly"
       },
       "data": [
        {
         "hole": 0.5,
         "labels": [
          "Movie",
          "TV Show"
         ],
         "title": {
          "text": "Movies vs TV Shows"
         },
         "type": "pie",
         "values": [
          0.7221193914618574,
          0.2778806085381425
         ]
        }
       ],
       "layout": {
        "template": {
         "data": {
          "bar": [
           {
            "error_x": {
             "color": "#2a3f5f"
            },
            "error_y": {
             "color": "#2a3f5f"
            },
            "marker": {
             "line": {
              "color": "#E5ECF6",
              "width": 0.5
             },
             "pattern": {
              "fillmode": "overlay",
              "size": 10,
              "solidity": 0.2
             }
            },
            "type": "bar"
           }
          ],
          "barpolar": [
           {
            "marker": {
             "line": {
              "color": "#E5ECF6",
              "width": 0.5
             },
             "pattern": {
              "fillmode": "overlay",
              "size": 10,
              "solidity": 0.2
             }
            },
            "type": "barpolar"
           }
          ],
          "carpet": [
           {
            "aaxis": {
             "endlinecolor": "#2a3f5f",
             "gridcolor": "white",
             "linecolor": "white",
             "minorgridcolor": "white",
             "startlinecolor": "#2a3f5f"
            },
            "baxis": {
             "endlinecolor": "#2a3f5f",
             "gridcolor": "white",
             "linecolor": "white",
             "minorgridcolor": "white",
             "startlinecolor": "#2a3f5f"
            },
            "type": "carpet"
           }
          ],
          "choropleth": [
           {
            "colorbar": {
             "outlinewidth": 0,
             "ticks": ""
            },
            "type": "choropleth"
           }
          ],
          "contour": [
           {
            "colorbar": {
             "outlinewidth": 0,
             "ticks": ""
            },
            "colorscale": [
             [
              0,
              "#0d0887"
             ],
             [
              0.1111111111111111,
              "#46039f"
             ],
             [
              0.2222222222222222,
              "#7201a8"
             ],
             [
              0.3333333333333333,
              "#9c179e"
             ],
             [
              0.4444444444444444,
              "#bd3786"
             ],
             [
              0.5555555555555556,
              "#d8576b"
             ],
             [
              0.6666666666666666,
              "#ed7953"
             ],
             [
              0.7777777777777778,
              "#fb9f3a"
             ],
             [
              0.8888888888888888,
              "#fdca26"
             ],
             [
              1,
              "#f0f921"
             ]
            ],
            "type": "contour"
           }
          ],
          "contourcarpet": [
           {
            "colorbar": {
             "outlinewidth": 0,
             "ticks": ""
            },
            "type": "contourcarpet"
           }
          ],
          "heatmap": [
           {
            "colorbar": {
             "outlinewidth": 0,
             "ticks": ""
            },
            "colorscale": [
             [
              0,
              "#0d0887"
             ],
             [
              0.1111111111111111,
              "#46039f"
             ],
             [
              0.2222222222222222,
              "#7201a8"
             ],
             [
              0.3333333333333333,
              "#9c179e"
             ],
             [
              0.4444444444444444,
              "#bd3786"
             ],
             [
              0.5555555555555556,
              "#d8576b"
             ],
             [
              0.6666666666666666,
              "#ed7953"
             ],
             [
              0.7777777777777778,
              "#fb9f3a"
             ],
             [
              0.8888888888888888,
              "#fdca26"
             ],
             [
              1,
              "#f0f921"
             ]
            ],
            "type": "heatmap"
           }
          ],
          "heatmapgl": [
           {
            "colorbar": {
             "outlinewidth": 0,
             "ticks": ""
            },
            "colorscale": [
             [
              0,
              "#0d0887"
             ],
             [
              0.1111111111111111,
              "#46039f"
             ],
             [
              0.2222222222222222,
              "#7201a8"
             ],
             [
              0.3333333333333333,
              "#9c179e"
             ],
             [
              0.4444444444444444,
              "#bd3786"
             ],
             [
              0.5555555555555556,
              "#d8576b"
             ],
             [
              0.6666666666666666,
              "#ed7953"
             ],
             [
              0.7777777777777778,
              "#fb9f3a"
             ],
             [
              0.8888888888888888,
              "#fdca26"
             ],
             [
              1,
              "#f0f921"
             ]
            ],
            "type": "heatmapgl"
           }
          ],
          "histogram": [
           {
            "marker": {
             "pattern": {
              "fillmode": "overlay",
              "size": 10,
              "solidity": 0.2
             }
            },
            "type": "histogram"
           }
          ],
          "histogram2d": [
           {
            "colorbar": {
             "outlinewidth": 0,
             "ticks": ""
            },
            "colorscale": [
             [
              0,
              "#0d0887"
             ],
             [
              0.1111111111111111,
              "#46039f"
             ],
             [
              0.2222222222222222,
              "#7201a8"
             ],
             [
              0.3333333333333333,
              "#9c179e"
             ],
             [
              0.4444444444444444,
              "#bd3786"
             ],
             [
              0.5555555555555556,
              "#d8576b"
             ],
             [
              0.6666666666666666,
              "#ed7953"
             ],
             [
              0.7777777777777778,
              "#fb9f3a"
             ],
             [
              0.8888888888888888,
              "#fdca26"
             ],
             [
              1,
              "#f0f921"
             ]
            ],
            "type": "histogram2d"
           }
          ],
          "histogram2dcontour": [
           {
            "colorbar": {
             "outlinewidth": 0,
             "ticks": ""
            },
            "colorscale": [
             [
              0,
              "#0d0887"
             ],
             [
              0.1111111111111111,
              "#46039f"
             ],
             [
              0.2222222222222222,
              "#7201a8"
             ],
             [
              0.3333333333333333,
              "#9c179e"
             ],
             [
              0.4444444444444444,
              "#bd3786"
             ],
             [
              0.5555555555555556,
              "#d8576b"
             ],
             [
              0.6666666666666666,
              "#ed7953"
             ],
             [
              0.7777777777777778,
              "#fb9f3a"
             ],
             [
              0.8888888888888888,
              "#fdca26"
             ],
             [
              1,
              "#f0f921"
             ]
            ],
            "type": "histogram2dcontour"
           }
          ],
          "mesh3d": [
           {
            "colorbar": {
             "outlinewidth": 0,
             "ticks": ""
            },
            "type": "mesh3d"
           }
          ],
          "parcoords": [
           {
            "line": {
             "colorbar": {
              "outlinewidth": 0,
              "ticks": ""
             }
            },
            "type": "parcoords"
           }
          ],
          "pie": [
           {
            "automargin": true,
            "type": "pie"
           }
          ],
          "scatter": [
           {
            "marker": {
             "colorbar": {
              "outlinewidth": 0,
              "ticks": ""
             }
            },
            "type": "scatter"
           }
          ],
          "scatter3d": [
           {
            "line": {
             "colorbar": {
              "outlinewidth": 0,
              "ticks": ""
             }
            },
            "marker": {
             "colorbar": {
              "outlinewidth": 0,
              "ticks": ""
             }
            },
            "type": "scatter3d"
           }
          ],
          "scattercarpet": [
           {
            "marker": {
             "colorbar": {
              "outlinewidth": 0,
              "ticks": ""
             }
            },
            "type": "scattercarpet"
           }
          ],
          "scattergeo": [
           {
            "marker": {
             "colorbar": {
              "outlinewidth": 0,
              "ticks": ""
             }
            },
            "type": "scattergeo"
           }
          ],
          "scattergl": [
           {
            "marker": {
             "colorbar": {
              "outlinewidth": 0,
              "ticks": ""
             }
            },
            "type": "scattergl"
           }
          ],
          "scattermapbox": [
           {
            "marker": {
             "colorbar": {
              "outlinewidth": 0,
              "ticks": ""
             }
            },
            "type": "scattermapbox"
           }
          ],
          "scatterpolar": [
           {
            "marker": {
             "colorbar": {
              "outlinewidth": 0,
              "ticks": ""
             }
            },
            "type": "scatterpolar"
           }
          ],
          "scatterpolargl": [
           {
            "marker": {
             "colorbar": {
              "outlinewidth": 0,
              "ticks": ""
             }
            },
            "type": "scatterpolargl"
           }
          ],
          "scatterternary": [
           {
            "marker": {
             "colorbar": {
              "outlinewidth": 0,
              "ticks": ""
             }
            },
            "type": "scatterternary"
           }
          ],
          "surface": [
           {
            "colorbar": {
             "outlinewidth": 0,
             "ticks": ""
            },
            "colorscale": [
             [
              0,
              "#0d0887"
             ],
             [
              0.1111111111111111,
              "#46039f"
             ],
             [
              0.2222222222222222,
              "#7201a8"
             ],
             [
              0.3333333333333333,
              "#9c179e"
             ],
             [
              0.4444444444444444,
              "#bd3786"
             ],
             [
              0.5555555555555556,
              "#d8576b"
             ],
             [
              0.6666666666666666,
              "#ed7953"
             ],
             [
              0.7777777777777778,
              "#fb9f3a"
             ],
             [
              0.8888888888888888,
              "#fdca26"
             ],
             [
              1,
              "#f0f921"
             ]
            ],
            "type": "surface"
           }
          ],
          "table": [
           {
            "cells": {
             "fill": {
              "color": "#EBF0F8"
             },
             "line": {
              "color": "white"
             }
            },
            "header": {
             "fill": {
              "color": "#C8D4E3"
             },
             "line": {
              "color": "white"
             }
            },
            "type": "table"
           }
          ]
         },
         "layout": {
          "annotationdefaults": {
           "arrowcolor": "#2a3f5f",
           "arrowhead": 0,
           "arrowwidth": 1
          },
          "autotypenumbers": "strict",
          "coloraxis": {
           "colorbar": {
            "outlinewidth": 0,
            "ticks": ""
           }
          },
          "colorscale": {
           "diverging": [
            [
             0,
             "#8e0152"
            ],
            [
             0.1,
             "#c51b7d"
            ],
            [
             0.2,
             "#de77ae"
            ],
            [
             0.3,
             "#f1b6da"
            ],
            [
             0.4,
             "#fde0ef"
            ],
            [
             0.5,
             "#f7f7f7"
            ],
            [
             0.6,
             "#e6f5d0"
            ],
            [
             0.7,
             "#b8e186"
            ],
            [
             0.8,
             "#7fbc41"
            ],
            [
             0.9,
             "#4d9221"
            ],
            [
             1,
             "#276419"
            ]
           ],
           "sequential": [
            [
             0,
             "#0d0887"
            ],
            [
             0.1111111111111111,
             "#46039f"
            ],
            [
             0.2222222222222222,
             "#7201a8"
            ],
            [
             0.3333333333333333,
             "#9c179e"
            ],
            [
             0.4444444444444444,
             "#bd3786"
            ],
            [
             0.5555555555555556,
             "#d8576b"
            ],
            [
             0.6666666666666666,
             "#ed7953"
            ],
            [
             0.7777777777777778,
             "#fb9f3a"
            ],
            [
             0.8888888888888888,
             "#fdca26"
            ],
            [
             1,
             "#f0f921"
            ]
           ],
           "sequentialminus": [
            [
             0,
             "#0d0887"
            ],
            [
             0.1111111111111111,
             "#46039f"
            ],
            [
             0.2222222222222222,
             "#7201a8"
            ],
            [
             0.3333333333333333,
             "#9c179e"
            ],
            [
             0.4444444444444444,
             "#bd3786"
            ],
            [
             0.5555555555555556,
             "#d8576b"
            ],
            [
             0.6666666666666666,
             "#ed7953"
            ],
            [
             0.7777777777777778,
             "#fb9f3a"
            ],
            [
             0.8888888888888888,
             "#fdca26"
            ],
            [
             1,
             "#f0f921"
            ]
           ]
          },
          "colorway": [
           "#636efa",
           "#EF553B",
           "#00cc96",
           "#ab63fa",
           "#FFA15A",
           "#19d3f3",
           "#FF6692",
           "#B6E880",
           "#FF97FF",
           "#FECB52"
          ],
          "font": {
           "color": "#2a3f5f"
          },
          "geo": {
           "bgcolor": "white",
           "lakecolor": "white",
           "landcolor": "#E5ECF6",
           "showlakes": true,
           "showland": true,
           "subunitcolor": "white"
          },
          "hoverlabel": {
           "align": "left"
          },
          "hovermode": "closest",
          "mapbox": {
           "style": "light"
          },
          "paper_bgcolor": "white",
          "plot_bgcolor": "#E5ECF6",
          "polar": {
           "angularaxis": {
            "gridcolor": "white",
            "linecolor": "white",
            "ticks": ""
           },
           "bgcolor": "#E5ECF6",
           "radialaxis": {
            "gridcolor": "white",
            "linecolor": "white",
            "ticks": ""
           }
          },
          "scene": {
           "xaxis": {
            "backgroundcolor": "#E5ECF6",
            "gridcolor": "white",
            "gridwidth": 2,
            "linecolor": "white",
            "showbackground": true,
            "ticks": "",
            "zerolinecolor": "white"
           },
           "yaxis": {
            "backgroundcolor": "#E5ECF6",
            "gridcolor": "white",
            "gridwidth": 2,
            "linecolor": "white",
            "showbackground": true,
            "ticks": "",
            "zerolinecolor": "white"
           },
           "zaxis": {
            "backgroundcolor": "#E5ECF6",
            "gridcolor": "white",
            "gridwidth": 2,
            "linecolor": "white",
            "showbackground": true,
            "ticks": "",
            "zerolinecolor": "white"
           }
          },
          "shapedefaults": {
           "line": {
            "color": "#2a3f5f"
           }
          },
          "ternary": {
           "aaxis": {
            "gridcolor": "white",
            "linecolor": "white",
            "ticks": ""
           },
           "baxis": {
            "gridcolor": "white",
            "linecolor": "white",
            "ticks": ""
           },
           "bgcolor": "#E5ECF6",
           "caxis": {
            "gridcolor": "white",
            "linecolor": "white",
            "ticks": ""
           }
          },
          "title": {
           "x": 0.05
          },
          "xaxis": {
           "automargin": true,
           "gridcolor": "white",
           "linecolor": "white",
           "ticks": "",
           "title": {
            "standoff": 15
           },
           "zerolinecolor": "white",
           "zerolinewidth": 2
          },
          "yaxis": {
           "automargin": true,
           "gridcolor": "white",
           "linecolor": "white",
           "ticks": "",
           "title": {
            "standoff": 15
           },
           "zerolinecolor": "white",
           "zerolinewidth": 2
          }
         }
        }
       }
      },
      "text/html": [
       "<div>                            <div id=\"99ac90ba-7210-423f-976d-3657078cf40d\" class=\"plotly-graph-div\" style=\"height:525px; width:100%;\"></div>            <script type=\"text/javascript\">                require([\"plotly\"], function(Plotly) {                    window.PLOTLYENV=window.PLOTLYENV || {};                                    if (document.getElementById(\"99ac90ba-7210-423f-976d-3657078cf40d\")) {                    Plotly.newPlot(                        \"99ac90ba-7210-423f-976d-3657078cf40d\",                        [{\"hole\":0.5,\"labels\":[\"Movie\",\"TV Show\"],\"title\":{\"text\":\"Movies vs TV Shows\"},\"values\":[0.7221193914618574,0.2778806085381425],\"type\":\"pie\"}],                        {\"template\":{\"data\":{\"bar\":[{\"error_x\":{\"color\":\"#2a3f5f\"},\"error_y\":{\"color\":\"#2a3f5f\"},\"marker\":{\"line\":{\"color\":\"#E5ECF6\",\"width\":0.5},\"pattern\":{\"fillmode\":\"overlay\",\"size\":10,\"solidity\":0.2}},\"type\":\"bar\"}],\"barpolar\":[{\"marker\":{\"line\":{\"color\":\"#E5ECF6\",\"width\":0.5},\"pattern\":{\"fillmode\":\"overlay\",\"size\":10,\"solidity\":0.2}},\"type\":\"barpolar\"}],\"carpet\":[{\"aaxis\":{\"endlinecolor\":\"#2a3f5f\",\"gridcolor\":\"white\",\"linecolor\":\"white\",\"minorgridcolor\":\"white\",\"startlinecolor\":\"#2a3f5f\"},\"baxis\":{\"endlinecolor\":\"#2a3f5f\",\"gridcolor\":\"white\",\"linecolor\":\"white\",\"minorgridcolor\":\"white\",\"startlinecolor\":\"#2a3f5f\"},\"type\":\"carpet\"}],\"choropleth\":[{\"colorbar\":{\"outlinewidth\":0,\"ticks\":\"\"},\"type\":\"choropleth\"}],\"contour\":[{\"colorbar\":{\"outlinewidth\":0,\"ticks\":\"\"},\"colorscale\":[[0.0,\"#0d0887\"],[0.1111111111111111,\"#46039f\"],[0.2222222222222222,\"#7201a8\"],[0.3333333333333333,\"#9c179e\"],[0.4444444444444444,\"#bd3786\"],[0.5555555555555556,\"#d8576b\"],[0.6666666666666666,\"#ed7953\"],[0.7777777777777778,\"#fb9f3a\"],[0.8888888888888888,\"#fdca26\"],[1.0,\"#f0f921\"]],\"type\":\"contour\"}],\"contourcarpet\":[{\"colorbar\":{\"outlinewidth\":0,\"ticks\":\"\"},\"type\":\"contourcarpet\"}],\"heatmap\":[{\"colorbar\":{\"outlinewidth\":0,\"ticks\":\"\"},\"colorscale\":[[0.0,\"#0d0887\"],[0.1111111111111111,\"#46039f\"],[0.2222222222222222,\"#7201a8\"],[0.3333333333333333,\"#9c179e\"],[0.4444444444444444,\"#bd3786\"],[0.5555555555555556,\"#d8576b\"],[0.6666666666666666,\"#ed7953\"],[0.7777777777777778,\"#fb9f3a\"],[0.8888888888888888,\"#fdca26\"],[1.0,\"#f0f921\"]],\"type\":\"heatmap\"}],\"heatmapgl\":[{\"colorbar\":{\"outlinewidth\":0,\"ticks\":\"\"},\"colorscale\":[[0.0,\"#0d0887\"],[0.1111111111111111,\"#46039f\"],[0.2222222222222222,\"#7201a8\"],[0.3333333333333333,\"#9c179e\"],[0.4444444444444444,\"#bd3786\"],[0.5555555555555556,\"#d8576b\"],[0.6666666666666666,\"#ed7953\"],[0.7777777777777778,\"#fb9f3a\"],[0.8888888888888888,\"#fdca26\"],[1.0,\"#f0f921\"]],\"type\":\"heatmapgl\"}],\"histogram\":[{\"marker\":{\"pattern\":{\"fillmode\":\"overlay\",\"size\":10,\"solidity\":0.2}},\"type\":\"histogram\"}],\"histogram2d\":[{\"colorbar\":{\"outlinewidth\":0,\"ticks\":\"\"},\"colorscale\":[[0.0,\"#0d0887\"],[0.1111111111111111,\"#46039f\"],[0.2222222222222222,\"#7201a8\"],[0.3333333333333333,\"#9c179e\"],[0.4444444444444444,\"#bd3786\"],[0.5555555555555556,\"#d8576b\"],[0.6666666666666666,\"#ed7953\"],[0.7777777777777778,\"#fb9f3a\"],[0.8888888888888888,\"#fdca26\"],[1.0,\"#f0f921\"]],\"type\":\"histogram2d\"}],\"histogram2dcontour\":[{\"colorbar\":{\"outlinewidth\":0,\"ticks\":\"\"},\"colorscale\":[[0.0,\"#0d0887\"],[0.1111111111111111,\"#46039f\"],[0.2222222222222222,\"#7201a8\"],[0.3333333333333333,\"#9c179e\"],[0.4444444444444444,\"#bd3786\"],[0.5555555555555556,\"#d8576b\"],[0.6666666666666666,\"#ed7953\"],[0.7777777777777778,\"#fb9f3a\"],[0.8888888888888888,\"#fdca26\"],[1.0,\"#f0f921\"]],\"type\":\"histogram2dcontour\"}],\"mesh3d\":[{\"colorbar\":{\"outlinewidth\":0,\"ticks\":\"\"},\"type\":\"mesh3d\"}],\"parcoords\":[{\"line\":{\"colorbar\":{\"outlinewidth\":0,\"ticks\":\"\"}},\"type\":\"parcoords\"}],\"pie\":[{\"automargin\":true,\"type\":\"pie\"}],\"scatter\":[{\"marker\":{\"colorbar\":{\"outlinewidth\":0,\"ticks\":\"\"}},\"type\":\"scatter\"}],\"scatter3d\":[{\"line\":{\"colorbar\":{\"outlinewidth\":0,\"ticks\":\"\"}},\"marker\":{\"colorbar\":{\"outlinewidth\":0,\"ticks\":\"\"}},\"type\":\"scatter3d\"}],\"scattercarpet\":[{\"marker\":{\"colorbar\":{\"outlinewidth\":0,\"ticks\":\"\"}},\"type\":\"scattercarpet\"}],\"scattergeo\":[{\"marker\":{\"colorbar\":{\"outlinewidth\":0,\"ticks\":\"\"}},\"type\":\"scattergeo\"}],\"scattergl\":[{\"marker\":{\"colorbar\":{\"outlinewidth\":0,\"ticks\":\"\"}},\"type\":\"scattergl\"}],\"scattermapbox\":[{\"marker\":{\"colorbar\":{\"outlinewidth\":0,\"ticks\":\"\"}},\"type\":\"scattermapbox\"}],\"scatterpolar\":[{\"marker\":{\"colorbar\":{\"outlinewidth\":0,\"ticks\":\"\"}},\"type\":\"scatterpolar\"}],\"scatterpolargl\":[{\"marker\":{\"colorbar\":{\"outlinewidth\":0,\"ticks\":\"\"}},\"type\":\"scatterpolargl\"}],\"scatterternary\":[{\"marker\":{\"colorbar\":{\"outlinewidth\":0,\"ticks\":\"\"}},\"type\":\"scatterternary\"}],\"surface\":[{\"colorbar\":{\"outlinewidth\":0,\"ticks\":\"\"},\"colorscale\":[[0.0,\"#0d0887\"],[0.1111111111111111,\"#46039f\"],[0.2222222222222222,\"#7201a8\"],[0.3333333333333333,\"#9c179e\"],[0.4444444444444444,\"#bd3786\"],[0.5555555555555556,\"#d8576b\"],[0.6666666666666666,\"#ed7953\"],[0.7777777777777778,\"#fb9f3a\"],[0.8888888888888888,\"#fdca26\"],[1.0,\"#f0f921\"]],\"type\":\"surface\"}],\"table\":[{\"cells\":{\"fill\":{\"color\":\"#EBF0F8\"},\"line\":{\"color\":\"white\"}},\"header\":{\"fill\":{\"color\":\"#C8D4E3\"},\"line\":{\"color\":\"white\"}},\"type\":\"table\"}]},\"layout\":{\"annotationdefaults\":{\"arrowcolor\":\"#2a3f5f\",\"arrowhead\":0,\"arrowwidth\":1},\"autotypenumbers\":\"strict\",\"coloraxis\":{\"colorbar\":{\"outlinewidth\":0,\"ticks\":\"\"}},\"colorscale\":{\"diverging\":[[0,\"#8e0152\"],[0.1,\"#c51b7d\"],[0.2,\"#de77ae\"],[0.3,\"#f1b6da\"],[0.4,\"#fde0ef\"],[0.5,\"#f7f7f7\"],[0.6,\"#e6f5d0\"],[0.7,\"#b8e186\"],[0.8,\"#7fbc41\"],[0.9,\"#4d9221\"],[1,\"#276419\"]],\"sequential\":[[0.0,\"#0d0887\"],[0.1111111111111111,\"#46039f\"],[0.2222222222222222,\"#7201a8\"],[0.3333333333333333,\"#9c179e\"],[0.4444444444444444,\"#bd3786\"],[0.5555555555555556,\"#d8576b\"],[0.6666666666666666,\"#ed7953\"],[0.7777777777777778,\"#fb9f3a\"],[0.8888888888888888,\"#fdca26\"],[1.0,\"#f0f921\"]],\"sequentialminus\":[[0.0,\"#0d0887\"],[0.1111111111111111,\"#46039f\"],[0.2222222222222222,\"#7201a8\"],[0.3333333333333333,\"#9c179e\"],[0.4444444444444444,\"#bd3786\"],[0.5555555555555556,\"#d8576b\"],[0.6666666666666666,\"#ed7953\"],[0.7777777777777778,\"#fb9f3a\"],[0.8888888888888888,\"#fdca26\"],[1.0,\"#f0f921\"]]},\"colorway\":[\"#636efa\",\"#EF553B\",\"#00cc96\",\"#ab63fa\",\"#FFA15A\",\"#19d3f3\",\"#FF6692\",\"#B6E880\",\"#FF97FF\",\"#FECB52\"],\"font\":{\"color\":\"#2a3f5f\"},\"geo\":{\"bgcolor\":\"white\",\"lakecolor\":\"white\",\"landcolor\":\"#E5ECF6\",\"showlakes\":true,\"showland\":true,\"subunitcolor\":\"white\"},\"hoverlabel\":{\"align\":\"left\"},\"hovermode\":\"closest\",\"mapbox\":{\"style\":\"light\"},\"paper_bgcolor\":\"white\",\"plot_bgcolor\":\"#E5ECF6\",\"polar\":{\"angularaxis\":{\"gridcolor\":\"white\",\"linecolor\":\"white\",\"ticks\":\"\"},\"bgcolor\":\"#E5ECF6\",\"radialaxis\":{\"gridcolor\":\"white\",\"linecolor\":\"white\",\"ticks\":\"\"}},\"scene\":{\"xaxis\":{\"backgroundcolor\":\"#E5ECF6\",\"gridcolor\":\"white\",\"gridwidth\":2,\"linecolor\":\"white\",\"showbackground\":true,\"ticks\":\"\",\"zerolinecolor\":\"white\"},\"yaxis\":{\"backgroundcolor\":\"#E5ECF6\",\"gridcolor\":\"white\",\"gridwidth\":2,\"linecolor\":\"white\",\"showbackground\":true,\"ticks\":\"\",\"zerolinecolor\":\"white\"},\"zaxis\":{\"backgroundcolor\":\"#E5ECF6\",\"gridcolor\":\"white\",\"gridwidth\":2,\"linecolor\":\"white\",\"showbackground\":true,\"ticks\":\"\",\"zerolinecolor\":\"white\"}},\"shapedefaults\":{\"line\":{\"color\":\"#2a3f5f\"}},\"ternary\":{\"aaxis\":{\"gridcolor\":\"white\",\"linecolor\":\"white\",\"ticks\":\"\"},\"baxis\":{\"gridcolor\":\"white\",\"linecolor\":\"white\",\"ticks\":\"\"},\"bgcolor\":\"#E5ECF6\",\"caxis\":{\"gridcolor\":\"white\",\"linecolor\":\"white\",\"ticks\":\"\"}},\"title\":{\"x\":0.05},\"xaxis\":{\"automargin\":true,\"gridcolor\":\"white\",\"linecolor\":\"white\",\"ticks\":\"\",\"title\":{\"standoff\":15},\"zerolinecolor\":\"white\",\"zerolinewidth\":2},\"yaxis\":{\"automargin\":true,\"gridcolor\":\"white\",\"linecolor\":\"white\",\"ticks\":\"\",\"title\":{\"standoff\":15},\"zerolinecolor\":\"white\",\"zerolinewidth\":2}}}},                        {\"responsive\": true}                    ).then(function(){\n",
       "                            \n",
       "var gd = document.getElementById('99ac90ba-7210-423f-976d-3657078cf40d');\n",
       "var x = new MutationObserver(function (mutations, observer) {{\n",
       "        var display = window.getComputedStyle(gd).display;\n",
       "        if (!display || display === 'none') {{\n",
       "            console.log([gd, 'removed!']);\n",
       "            Plotly.purge(gd);\n",
       "            observer.disconnect();\n",
       "        }}\n",
       "}});\n",
       "\n",
       "// Listen for the removal of the full notebook cells\n",
       "var notebookContainer = gd.closest('#notebook-container');\n",
       "if (notebookContainer) {{\n",
       "    x.observe(notebookContainer, {childList: true});\n",
       "}}\n",
       "\n",
       "// Listen for the clearing of the current output cell\n",
       "var outputEl = gd.closest('.output');\n",
       "if (outputEl) {{\n",
       "    x.observe(outputEl, {childList: true});\n",
       "}}\n",
       "\n",
       "                        })                };                });            </script>        </div>"
      ]
     },
     "metadata": {},
     "output_type": "display_data"
    }
   ],
   "source": [
    "go.Figure(data=[go.Pie(labels=df_final.type.value_counts(normalize=True).index, \n",
    "                       values=df_final.type.value_counts(normalize=True).values, \n",
    "                       hole=.5, title=\"Movies vs TV Shows\")])"
   ]
  },
  {
   "cell_type": "code",
   "execution_count": 666,
   "id": "47006815",
   "metadata": {},
   "outputs": [
    {
     "data": {
      "text/html": [
       "<div>\n",
       "<style scoped>\n",
       "    .dataframe tbody tr th:only-of-type {\n",
       "        vertical-align: middle;\n",
       "    }\n",
       "\n",
       "    .dataframe tbody tr th {\n",
       "        vertical-align: top;\n",
       "    }\n",
       "\n",
       "    .dataframe thead th {\n",
       "        text-align: right;\n",
       "    }\n",
       "</style>\n",
       "<table border=\"1\" class=\"dataframe\">\n",
       "  <thead>\n",
       "    <tr style=\"text-align: right;\">\n",
       "      <th></th>\n",
       "      <th>title</th>\n",
       "    </tr>\n",
       "    <tr>\n",
       "      <th>Director</th>\n",
       "      <th></th>\n",
       "    </tr>\n",
       "  </thead>\n",
       "  <tbody>\n",
       "    <tr>\n",
       "      <th>unknown directors</th>\n",
       "      <td>2634</td>\n",
       "    </tr>\n",
       "    <tr>\n",
       "      <th>Rajiv Chilaka</th>\n",
       "      <td>22</td>\n",
       "    </tr>\n",
       "    <tr>\n",
       "      <th>Jan Suter</th>\n",
       "      <td>18</td>\n",
       "    </tr>\n",
       "    <tr>\n",
       "      <th>Raúl Campos</th>\n",
       "      <td>18</td>\n",
       "    </tr>\n",
       "    <tr>\n",
       "      <th>Suhas Kadav</th>\n",
       "      <td>16</td>\n",
       "    </tr>\n",
       "    <tr>\n",
       "      <th>Marcus Raboy</th>\n",
       "      <td>16</td>\n",
       "    </tr>\n",
       "    <tr>\n",
       "      <th>Jay Karas</th>\n",
       "      <td>15</td>\n",
       "    </tr>\n",
       "    <tr>\n",
       "      <th>Cathy Garcia-Molina</th>\n",
       "      <td>13</td>\n",
       "    </tr>\n",
       "    <tr>\n",
       "      <th>Jay Chapman</th>\n",
       "      <td>12</td>\n",
       "    </tr>\n",
       "    <tr>\n",
       "      <th>Martin Scorsese</th>\n",
       "      <td>12</td>\n",
       "    </tr>\n",
       "  </tbody>\n",
       "</table>\n",
       "</div>"
      ],
      "text/plain": [
       "                     title\n",
       "Director                  \n",
       "unknown directors     2634\n",
       "Rajiv Chilaka           22\n",
       " Jan Suter              18\n",
       "Raúl Campos             18\n",
       "Suhas Kadav             16\n",
       "Marcus Raboy            16\n",
       "Jay Karas               15\n",
       "Cathy Garcia-Molina     13\n",
       "Jay Chapman             12\n",
       "Martin Scorsese         12"
      ]
     },
     "execution_count": 666,
     "metadata": {},
     "output_type": "execute_result"
    }
   ],
   "source": [
    "df_final.groupby('Director').agg({'title':'nunique'}).sort_values(by='title',ascending=False).head(10)\n",
    "# here we can see highest occuring director is Rajiv Chilaka"
   ]
  },
  {
   "cell_type": "code",
   "execution_count": 667,
   "id": "503bd687",
   "metadata": {},
   "outputs": [
    {
     "data": {
      "text/html": [
       "<div>\n",
       "<style scoped>\n",
       "    .dataframe tbody tr th:only-of-type {\n",
       "        vertical-align: middle;\n",
       "    }\n",
       "\n",
       "    .dataframe tbody tr th {\n",
       "        vertical-align: top;\n",
       "    }\n",
       "\n",
       "    .dataframe thead th {\n",
       "        text-align: right;\n",
       "    }\n",
       "</style>\n",
       "<table border=\"1\" class=\"dataframe\">\n",
       "  <thead>\n",
       "    <tr style=\"text-align: right;\">\n",
       "      <th></th>\n",
       "      <th>title</th>\n",
       "    </tr>\n",
       "    <tr>\n",
       "      <th>Actors</th>\n",
       "      <th></th>\n",
       "    </tr>\n",
       "  </thead>\n",
       "  <tbody>\n",
       "    <tr>\n",
       "      <th>unknown actors</th>\n",
       "      <td>825</td>\n",
       "    </tr>\n",
       "    <tr>\n",
       "      <th>Anupam Kher</th>\n",
       "      <td>39</td>\n",
       "    </tr>\n",
       "    <tr>\n",
       "      <th>Rupa Bhimani</th>\n",
       "      <td>31</td>\n",
       "    </tr>\n",
       "    <tr>\n",
       "      <th>Takahiro Sakurai</th>\n",
       "      <td>30</td>\n",
       "    </tr>\n",
       "    <tr>\n",
       "      <th>Julie Tejwani</th>\n",
       "      <td>28</td>\n",
       "    </tr>\n",
       "    <tr>\n",
       "      <th>Om Puri</th>\n",
       "      <td>27</td>\n",
       "    </tr>\n",
       "    <tr>\n",
       "      <th>Rajesh Kava</th>\n",
       "      <td>26</td>\n",
       "    </tr>\n",
       "    <tr>\n",
       "      <th>Shah Rukh Khan</th>\n",
       "      <td>26</td>\n",
       "    </tr>\n",
       "    <tr>\n",
       "      <th>Andrea Libman</th>\n",
       "      <td>25</td>\n",
       "    </tr>\n",
       "    <tr>\n",
       "      <th>Boman Irani</th>\n",
       "      <td>25</td>\n",
       "    </tr>\n",
       "  </tbody>\n",
       "</table>\n",
       "</div>"
      ],
      "text/plain": [
       "                   title\n",
       "Actors                  \n",
       "unknown actors       825\n",
       " Anupam Kher          39\n",
       " Rupa Bhimani         31\n",
       " Takahiro Sakurai     30\n",
       " Julie Tejwani        28\n",
       " Om Puri              27\n",
       " Rajesh Kava          26\n",
       "Shah Rukh Khan        26\n",
       " Andrea Libman        25\n",
       " Boman Irani          25"
      ]
     },
     "execution_count": 667,
     "metadata": {},
     "output_type": "execute_result"
    }
   ],
   "source": [
    "df_final.groupby('Actors').agg({'title':'nunique'}).sort_values(by='title',ascending=False).head(10)\n",
    "# Anupam Kher has highest number of occurance"
   ]
  },
  {
   "cell_type": "code",
   "execution_count": 668,
   "id": "804a9d53",
   "metadata": {},
   "outputs": [
    {
     "data": {
      "text/html": [
       "<div>\n",
       "<style scoped>\n",
       "    .dataframe tbody tr th:only-of-type {\n",
       "        vertical-align: middle;\n",
       "    }\n",
       "\n",
       "    .dataframe tbody tr th {\n",
       "        vertical-align: top;\n",
       "    }\n",
       "\n",
       "    .dataframe thead th {\n",
       "        text-align: right;\n",
       "    }\n",
       "</style>\n",
       "<table border=\"1\" class=\"dataframe\">\n",
       "  <thead>\n",
       "    <tr style=\"text-align: right;\">\n",
       "      <th></th>\n",
       "      <th>title</th>\n",
       "    </tr>\n",
       "    <tr>\n",
       "      <th>Country</th>\n",
       "      <th></th>\n",
       "    </tr>\n",
       "  </thead>\n",
       "  <tbody>\n",
       "    <tr>\n",
       "      <th>United States</th>\n",
       "      <td>3211</td>\n",
       "    </tr>\n",
       "    <tr>\n",
       "      <th>India</th>\n",
       "      <td>1008</td>\n",
       "    </tr>\n",
       "    <tr>\n",
       "      <th>Unknown Country</th>\n",
       "      <td>831</td>\n",
       "    </tr>\n",
       "    <tr>\n",
       "      <th>United Kingdom</th>\n",
       "      <td>628</td>\n",
       "    </tr>\n",
       "    <tr>\n",
       "      <th>United States</th>\n",
       "      <td>479</td>\n",
       "    </tr>\n",
       "    <tr>\n",
       "      <th>Canada</th>\n",
       "      <td>271</td>\n",
       "    </tr>\n",
       "    <tr>\n",
       "      <th>Japan</th>\n",
       "      <td>259</td>\n",
       "    </tr>\n",
       "    <tr>\n",
       "      <th>France</th>\n",
       "      <td>212</td>\n",
       "    </tr>\n",
       "    <tr>\n",
       "      <th>South Korea</th>\n",
       "      <td>211</td>\n",
       "    </tr>\n",
       "    <tr>\n",
       "      <th>Spain</th>\n",
       "      <td>181</td>\n",
       "    </tr>\n",
       "  </tbody>\n",
       "</table>\n",
       "</div>"
      ],
      "text/plain": [
       "                 title\n",
       "Country               \n",
       "United States     3211\n",
       "India             1008\n",
       "Unknown Country    831\n",
       "United Kingdom     628\n",
       " United States     479\n",
       "Canada             271\n",
       "Japan              259\n",
       "France             212\n",
       "South Korea        211\n",
       "Spain              181"
      ]
     },
     "execution_count": 668,
     "metadata": {},
     "output_type": "execute_result"
    }
   ],
   "source": [
    "df_final.groupby('Country').agg({'title':'nunique'}).sort_values(by='title',ascending=False).head(10)\n",
    "# most customers of netflix is in United States followed by India"
   ]
  },
  {
   "cell_type": "code",
   "execution_count": 669,
   "id": "7d36115a",
   "metadata": {},
   "outputs": [
    {
     "data": {
      "text/html": [
       "<div>\n",
       "<style scoped>\n",
       "    .dataframe tbody tr th:only-of-type {\n",
       "        vertical-align: middle;\n",
       "    }\n",
       "\n",
       "    .dataframe tbody tr th {\n",
       "        vertical-align: top;\n",
       "    }\n",
       "\n",
       "    .dataframe thead th {\n",
       "        text-align: right;\n",
       "    }\n",
       "</style>\n",
       "<table border=\"1\" class=\"dataframe\">\n",
       "  <thead>\n",
       "    <tr style=\"text-align: right;\">\n",
       "      <th></th>\n",
       "      <th>title</th>\n",
       "    </tr>\n",
       "    <tr>\n",
       "      <th>Genre</th>\n",
       "      <th></th>\n",
       "    </tr>\n",
       "  </thead>\n",
       "  <tbody>\n",
       "    <tr>\n",
       "      <th>International Movies</th>\n",
       "      <td>2624</td>\n",
       "    </tr>\n",
       "    <tr>\n",
       "      <th>Dramas</th>\n",
       "      <td>1600</td>\n",
       "    </tr>\n",
       "    <tr>\n",
       "      <th>Comedies</th>\n",
       "      <td>1210</td>\n",
       "    </tr>\n",
       "    <tr>\n",
       "      <th>Action &amp; Adventure</th>\n",
       "      <td>859</td>\n",
       "    </tr>\n",
       "    <tr>\n",
       "      <th>Documentaries</th>\n",
       "      <td>829</td>\n",
       "    </tr>\n",
       "    <tr>\n",
       "      <th>Dramas</th>\n",
       "      <td>827</td>\n",
       "    </tr>\n",
       "    <tr>\n",
       "      <th>International TV Shows</th>\n",
       "      <td>774</td>\n",
       "    </tr>\n",
       "    <tr>\n",
       "      <th>Independent Movies</th>\n",
       "      <td>736</td>\n",
       "    </tr>\n",
       "    <tr>\n",
       "      <th>TV Dramas</th>\n",
       "      <td>696</td>\n",
       "    </tr>\n",
       "    <tr>\n",
       "      <th>Romantic Movies</th>\n",
       "      <td>613</td>\n",
       "    </tr>\n",
       "  </tbody>\n",
       "</table>\n",
       "</div>"
      ],
      "text/plain": [
       "                        title\n",
       "Genre                        \n",
       " International Movies    2624\n",
       "Dramas                   1600\n",
       "Comedies                 1210\n",
       "Action & Adventure        859\n",
       "Documentaries             829\n",
       " Dramas                   827\n",
       "International TV Shows    774\n",
       " Independent Movies       736\n",
       " TV Dramas                696\n",
       " Romantic Movies          613"
      ]
     },
     "execution_count": 669,
     "metadata": {},
     "output_type": "execute_result"
    }
   ],
   "source": [
    "df_final.groupby('Genre').agg({'title':'nunique'}).sort_values(by='title',ascending=False).head(10)\n",
    "# most customers of netflix is in United States followed by India"
   ]
  },
  {
   "cell_type": "code",
   "execution_count": 670,
   "id": "b18144c5",
   "metadata": {},
   "outputs": [
    {
     "data": {
      "text/html": [
       "<div>\n",
       "<style scoped>\n",
       "    .dataframe tbody tr th:only-of-type {\n",
       "        vertical-align: middle;\n",
       "    }\n",
       "\n",
       "    .dataframe tbody tr th {\n",
       "        vertical-align: top;\n",
       "    }\n",
       "\n",
       "    .dataframe thead th {\n",
       "        text-align: right;\n",
       "    }\n",
       "</style>\n",
       "<table border=\"1\" class=\"dataframe\">\n",
       "  <thead>\n",
       "    <tr style=\"text-align: right;\">\n",
       "      <th></th>\n",
       "      <th>Director</th>\n",
       "      <th>title</th>\n",
       "    </tr>\n",
       "  </thead>\n",
       "  <tbody>\n",
       "    <tr>\n",
       "      <th>1</th>\n",
       "      <td>Rajiv Chilaka</td>\n",
       "      <td>22</td>\n",
       "    </tr>\n",
       "    <tr>\n",
       "      <th>2</th>\n",
       "      <td>Jan Suter</td>\n",
       "      <td>18</td>\n",
       "    </tr>\n",
       "    <tr>\n",
       "      <th>3</th>\n",
       "      <td>Raúl Campos</td>\n",
       "      <td>18</td>\n",
       "    </tr>\n",
       "    <tr>\n",
       "      <th>4</th>\n",
       "      <td>Suhas Kadav</td>\n",
       "      <td>16</td>\n",
       "    </tr>\n",
       "    <tr>\n",
       "      <th>5</th>\n",
       "      <td>Marcus Raboy</td>\n",
       "      <td>16</td>\n",
       "    </tr>\n",
       "    <tr>\n",
       "      <th>6</th>\n",
       "      <td>Jay Karas</td>\n",
       "      <td>15</td>\n",
       "    </tr>\n",
       "    <tr>\n",
       "      <th>7</th>\n",
       "      <td>Cathy Garcia-Molina</td>\n",
       "      <td>13</td>\n",
       "    </tr>\n",
       "    <tr>\n",
       "      <th>8</th>\n",
       "      <td>Jay Chapman</td>\n",
       "      <td>12</td>\n",
       "    </tr>\n",
       "    <tr>\n",
       "      <th>9</th>\n",
       "      <td>Martin Scorsese</td>\n",
       "      <td>12</td>\n",
       "    </tr>\n",
       "  </tbody>\n",
       "</table>\n",
       "</div>"
      ],
      "text/plain": [
       "              Director  title\n",
       "1        Rajiv Chilaka     22\n",
       "2            Jan Suter     18\n",
       "3          Raúl Campos     18\n",
       "4          Suhas Kadav     16\n",
       "5         Marcus Raboy     16\n",
       "6            Jay Karas     15\n",
       "7  Cathy Garcia-Molina     13\n",
       "8          Jay Chapman     12\n",
       "9      Martin Scorsese     12"
      ]
     },
     "execution_count": 670,
     "metadata": {},
     "output_type": "execute_result"
    }
   ],
   "source": [
    "df_director = df_final.groupby('Director').agg({'title':'nunique'}).sort_values(by='title',ascending=False).reset_index().head(10) \n",
    "df_director = df_director.loc[df_director['Director'] != 'unknown directors']\n",
    "df_director"
   ]
  },
  {
   "cell_type": "code",
   "execution_count": 671,
   "id": "952fa64f",
   "metadata": {},
   "outputs": [
    {
     "data": {
      "image/png": "[encoded data removed]",
      "text/plain": [
       "<Figure size 720x576 with 1 Axes>"
      ]
     },
     "metadata": {},
     "output_type": "display_data"
    }
   ],
   "source": [
    "sns.set_style(\"darkgrid\")\n",
    "plt.figure(figsize=(10,8))\n",
    "sns.barplot(data = df_director,\n",
    "              x = 'title',\n",
    "            y = 'Director',\n",
    "              palette='mako')\n",
    "plt.xlabel('Count')\n",
    "plt.title('Most Popular director')\n",
    "plt.show()"
   ]
  },
  {
   "cell_type": "code",
   "execution_count": 672,
   "id": "c108d312",
   "metadata": {},
   "outputs": [
    {
     "data": {
      "text/html": [
       "<div>\n",
       "<style scoped>\n",
       "    .dataframe tbody tr th:only-of-type {\n",
       "        vertical-align: middle;\n",
       "    }\n",
       "\n",
       "    .dataframe tbody tr th {\n",
       "        vertical-align: top;\n",
       "    }\n",
       "\n",
       "    .dataframe thead th {\n",
       "        text-align: right;\n",
       "    }\n",
       "</style>\n",
       "<table border=\"1\" class=\"dataframe\">\n",
       "  <thead>\n",
       "    <tr style=\"text-align: right;\">\n",
       "      <th></th>\n",
       "      <th>Actors</th>\n",
       "      <th>title</th>\n",
       "    </tr>\n",
       "  </thead>\n",
       "  <tbody>\n",
       "    <tr>\n",
       "      <th>1</th>\n",
       "      <td>Anupam Kher</td>\n",
       "      <td>39</td>\n",
       "    </tr>\n",
       "    <tr>\n",
       "      <th>2</th>\n",
       "      <td>Rupa Bhimani</td>\n",
       "      <td>31</td>\n",
       "    </tr>\n",
       "    <tr>\n",
       "      <th>3</th>\n",
       "      <td>Takahiro Sakurai</td>\n",
       "      <td>30</td>\n",
       "    </tr>\n",
       "    <tr>\n",
       "      <th>4</th>\n",
       "      <td>Julie Tejwani</td>\n",
       "      <td>28</td>\n",
       "    </tr>\n",
       "    <tr>\n",
       "      <th>5</th>\n",
       "      <td>Om Puri</td>\n",
       "      <td>27</td>\n",
       "    </tr>\n",
       "    <tr>\n",
       "      <th>6</th>\n",
       "      <td>Rajesh Kava</td>\n",
       "      <td>26</td>\n",
       "    </tr>\n",
       "    <tr>\n",
       "      <th>7</th>\n",
       "      <td>Shah Rukh Khan</td>\n",
       "      <td>26</td>\n",
       "    </tr>\n",
       "    <tr>\n",
       "      <th>8</th>\n",
       "      <td>Andrea Libman</td>\n",
       "      <td>25</td>\n",
       "    </tr>\n",
       "    <tr>\n",
       "      <th>9</th>\n",
       "      <td>Boman Irani</td>\n",
       "      <td>25</td>\n",
       "    </tr>\n",
       "  </tbody>\n",
       "</table>\n",
       "</div>"
      ],
      "text/plain": [
       "              Actors  title\n",
       "1        Anupam Kher     39\n",
       "2       Rupa Bhimani     31\n",
       "3   Takahiro Sakurai     30\n",
       "4      Julie Tejwani     28\n",
       "5            Om Puri     27\n",
       "6        Rajesh Kava     26\n",
       "7     Shah Rukh Khan     26\n",
       "8      Andrea Libman     25\n",
       "9        Boman Irani     25"
      ]
     },
     "execution_count": 672,
     "metadata": {},
     "output_type": "execute_result"
    }
   ],
   "source": [
    "df_actor = df_final.groupby('Actors').agg({'title':'nunique'}).sort_values(by='title',ascending=False).reset_index().head(10) \n",
    "df_actor = df_actor.loc[df_actor['Actors'] != 'unknown actors']\n",
    "df_actor"
   ]
  },
  {
   "cell_type": "code",
   "execution_count": 673,
   "id": "c9738c95",
   "metadata": {},
   "outputs": [
    {
     "data": {
      "image/png": "[encoded data removed]",
      "text/plain": [
       "<Figure size 720x576 with 1 Axes>"
      ]
     },
     "metadata": {},
     "output_type": "display_data"
    }
   ],
   "source": [
    "sns.set_style(\"darkgrid\")\n",
    "plt.figure(figsize=(10,8))\n",
    "sns.barplot(data = df_actor,\n",
    "              x = 'title',\n",
    "            y = 'Actors',\n",
    "              palette='mako')\n",
    "plt.xlabel('Count')\n",
    "plt.title('Most Popular director')\n",
    "plt.show()"
   ]
  },
  {
   "cell_type": "code",
   "execution_count": 674,
   "id": "f5b0969d",
   "metadata": {},
   "outputs": [
    {
     "data": {
      "text/html": [
       "<div>\n",
       "<style scoped>\n",
       "    .dataframe tbody tr th:only-of-type {\n",
       "        vertical-align: middle;\n",
       "    }\n",
       "\n",
       "    .dataframe tbody tr th {\n",
       "        vertical-align: top;\n",
       "    }\n",
       "\n",
       "    .dataframe thead th {\n",
       "        text-align: right;\n",
       "    }\n",
       "</style>\n",
       "<table border=\"1\" class=\"dataframe\">\n",
       "  <thead>\n",
       "    <tr style=\"text-align: right;\">\n",
       "      <th></th>\n",
       "      <th>Country</th>\n",
       "      <th>title</th>\n",
       "    </tr>\n",
       "  </thead>\n",
       "  <tbody>\n",
       "    <tr>\n",
       "      <th>0</th>\n",
       "      <td>United States</td>\n",
       "      <td>3211</td>\n",
       "    </tr>\n",
       "    <tr>\n",
       "      <th>1</th>\n",
       "      <td>India</td>\n",
       "      <td>1008</td>\n",
       "    </tr>\n",
       "    <tr>\n",
       "      <th>3</th>\n",
       "      <td>United Kingdom</td>\n",
       "      <td>628</td>\n",
       "    </tr>\n",
       "    <tr>\n",
       "      <th>4</th>\n",
       "      <td>United States</td>\n",
       "      <td>479</td>\n",
       "    </tr>\n",
       "    <tr>\n",
       "      <th>5</th>\n",
       "      <td>Canada</td>\n",
       "      <td>271</td>\n",
       "    </tr>\n",
       "    <tr>\n",
       "      <th>6</th>\n",
       "      <td>Japan</td>\n",
       "      <td>259</td>\n",
       "    </tr>\n",
       "    <tr>\n",
       "      <th>7</th>\n",
       "      <td>France</td>\n",
       "      <td>212</td>\n",
       "    </tr>\n",
       "    <tr>\n",
       "      <th>8</th>\n",
       "      <td>South Korea</td>\n",
       "      <td>211</td>\n",
       "    </tr>\n",
       "    <tr>\n",
       "      <th>9</th>\n",
       "      <td>Spain</td>\n",
       "      <td>181</td>\n",
       "    </tr>\n",
       "  </tbody>\n",
       "</table>\n",
       "</div>"
      ],
      "text/plain": [
       "          Country  title\n",
       "0   United States   3211\n",
       "1           India   1008\n",
       "3  United Kingdom    628\n",
       "4   United States    479\n",
       "5          Canada    271\n",
       "6           Japan    259\n",
       "7          France    212\n",
       "8     South Korea    211\n",
       "9           Spain    181"
      ]
     },
     "execution_count": 674,
     "metadata": {},
     "output_type": "execute_result"
    }
   ],
   "source": [
    "df_Country = df_final.groupby(['Country']).agg({'title':'nunique'}).sort_values(by='title',ascending=False).reset_index().head(10)\n",
    "df_Country = df_Country.loc[df_Country['Country'] != 'Unknown Country']\n",
    "df_Country"
   ]
  },
  {
   "cell_type": "code",
   "execution_count": 675,
   "id": "491ccba4",
   "metadata": {},
   "outputs": [
    {
     "data": {
      "image/png": "[encoded data removed]",
      "text/plain": [
       "<Figure size 864x576 with 1 Axes>"
      ]
     },
     "metadata": {},
     "output_type": "display_data"
    }
   ],
   "source": [
    "sns.set_style(\"darkgrid\")\n",
    "fig = plt.figure(figsize=(12,8))\n",
    "plt.xticks(rotation=70)\n",
    "sns.barplot(data = df_Country,x= 'Country', y='title', orient='v',palette='mako')\n",
    "\n",
    "plt.show()"
   ]
  },
  {
   "cell_type": "code",
   "execution_count": 676,
   "id": "2b5dccc0",
   "metadata": {},
   "outputs": [],
   "source": [
    "df_genre = df_final.groupby('Genre').agg({'title':'nunique'}).reset_index()\n",
    "df_genre = df_genre.sort_values(by = 'title',ascending = False).head(10)"
   ]
  },
  {
   "cell_type": "code",
   "execution_count": 677,
   "id": "e4d4b9f2",
   "metadata": {},
   "outputs": [
    {
     "data": {
      "image/png": "[encoded data removed]",
      "text/plain": [
       "<Figure size 432x288 with 1 Axes>"
      ]
     },
     "metadata": {},
     "output_type": "display_data"
    }
   ],
   "source": [
    "plt.pie(df_genre['title'], labels=df_genre['Genre'], autopct='%.0f%%', radius=3, textprops={'fontsize': 14})\n",
    "plt.show()"
   ]
  },
  {
   "cell_type": "code",
   "execution_count": 678,
   "id": "8a1757ee",
   "metadata": {},
   "outputs": [
    {
     "data": {
      "image/png": "[encoded data removed]",
      "text/plain": [
       "<Figure size 432x288 with 1 Axes>"
      ]
     },
     "metadata": {},
     "output_type": "display_data"
    }
   ],
   "source": [
    "df_rating = df_final.groupby('rating').agg({'title':'nunique'}).reset_index()\n",
    "df_rating = df_rating.sort_values(by = 'title',ascending = False)\n",
    "sns.barplot(data = df_rating,\n",
    "              x = 'rating',\n",
    "            y = 'title',\n",
    "              palette='mako')\n",
    "plt.xlabel('Ratings')\n",
    "plt.xticks(rotation = 90)\n",
    "plt.title('Rating distribution')\n",
    "plt.show()"
   ]
  },
  {
   "cell_type": "code",
   "execution_count": 679,
   "id": "2839bcfc",
   "metadata": {},
   "outputs": [],
   "source": [
    "#seperating movie and tv series \n",
    "df_final_movie = df_final.loc[df_final['type']=='Movie']\n",
    "df_final_tv_show = df_final.loc[df_final['type']=='TV Show']"
   ]
  },
  {
   "cell_type": "code",
   "execution_count": 680,
   "id": "5070cbaa",
   "metadata": {},
   "outputs": [
    {
     "data": {
      "text/plain": [
       "Text(0.5, 1.0, 'TV Shows released per year')"
      ]
     },
     "execution_count": 680,
     "metadata": {},
     "output_type": "execute_result"
    },
    {
     "data": {
      "image/png": "[encoded data removed]",
      "text/plain": [
       "<Figure size 1800x576 with 2 Axes>"
      ]
     },
     "metadata": {},
     "output_type": "display_data"
    }
   ],
   "source": [
    "#Checking for outlires\n",
    "fig = plt.figure(figsize=(25,8))\n",
    "plt.subplots_adjust(left=0.1,\n",
    "                    bottom=0.1,\n",
    "                    right=0.9,\n",
    "                    top=0.9,\n",
    "                    wspace=0.4,\n",
    "                    hspace=0.4)\n",
    "\n",
    "plt.subplot(1,2,1)\n",
    "sns.boxplot(data = df_final_movie ,\n",
    "            x = 'release_year')\n",
    "plt.xlabel('Release year')\n",
    "plt.title('Movies released per year')\n",
    "\n",
    "plt.subplot(1,2,2)\n",
    "sns.boxplot(data = df_final_tv_show ,\n",
    "            x = 'release_year')\n",
    "plt.xlabel('Release year')\n",
    "plt.title('TV Shows released per year')"
   ]
  },
  {
   "cell_type": "markdown",
   "id": "d4fa5b1a",
   "metadata": {},
   "source": [
    "- now in this we can see movies released before 1995 can be considered as outliner\n",
    "- similarly tv series came into trend after 2010"
   ]
  },
  {
   "cell_type": "code",
   "execution_count": 681,
   "id": "1029678b",
   "metadata": {},
   "outputs": [],
   "source": [
    "#now we consider data from 1990 to 2021, as before that the data is quite less\n",
    "df_final_movie = df_final_movie.loc[df_final_movie['release_year']>=1990]\n",
    "df_final_tv_show = df_final_tv_show.loc[df_final_tv_show['release_year']>=1990]"
   ]
  },
  {
   "cell_type": "code",
   "execution_count": 682,
   "id": "8c247f59",
   "metadata": {},
   "outputs": [],
   "source": [
    "#now we have to change the duration of both tv series and movies \n",
    "new = df_final_movie['duration'].str.split(' ',expand=True)\n",
    "df_final_movie['duration'] = new[0]\n",
    "df_final_movie['duration'] = df_final_movie['duration'].astype(float)\n",
    "\n",
    "new = df_final_tv_show['duration'].str.split(' ',expand=True)\n",
    "df_final_tv_show['duration'] = new[0]\n",
    "df_final_tv_show['duration'] = df_final_tv_show['duration'].astype(float)"
   ]
  },
  {
   "cell_type": "code",
   "execution_count": 683,
   "id": "be05ac57",
   "metadata": {},
   "outputs": [
    {
     "data": {
      "image/png": "[encoded data removed]",
      "text/plain": [
       "<Figure size 1800x576 with 2 Axes>"
      ]
     },
     "metadata": {},
     "output_type": "display_data"
    }
   ],
   "source": [
    "fig = plt.figure(figsize=(25,8))\n",
    "plt.subplots_adjust(left=0.1,\n",
    "                    bottom=0.1,\n",
    "                    right=0.9,\n",
    "                    top=0.9,\n",
    "                    wspace=0.4,\n",
    "                    hspace=0.4)\n",
    "\n",
    "plt.subplot(2,1,1)\n",
    "sns.histplot(df_final_movie['release_year'])\n",
    "plt.xticks(rotation = 90,fontsize=10)\n",
    "plt.xlabel('Release year')\n",
    "plt.title('Movies released per year')\n",
    "\n",
    "plt.subplot(2,1,2)\n",
    "sns.histplot(df_final_tv_show['release_year'])\n",
    "plt.xticks(rotation = 90)\n",
    "plt.xlabel('Release year')\n",
    "plt.title('TV shows released per year')\n",
    "\n",
    "\n",
    "plt.show()"
   ]
  },
  {
   "cell_type": "markdown",
   "id": "7a958286",
   "metadata": {},
   "source": [
    "- As we can see there is a increase in both TV series and Movies\n",
    "- But for last 5 years the TV series have been increased more as compared to Movies"
   ]
  },
  {
   "cell_type": "code",
   "execution_count": 684,
   "id": "5ea39436",
   "metadata": {},
   "outputs": [],
   "source": [
    "#making dataset according to date and month\n",
    "df7 = df_final_movie.groupby(['date','month']).agg({'title':'nunique'}).reset_index()\n",
    "df8 = df_final_tv_show.groupby(['date','month']).agg({'title':'nunique'}).reset_index()"
   ]
  },
  {
   "cell_type": "code",
   "execution_count": 685,
   "id": "1402632f",
   "metadata": {},
   "outputs": [
    {
     "data": {
      "image/png": "[encoded data removed]",
      "text/plain": [
       "<Figure size 1800x576 with 4 Axes>"
      ]
     },
     "metadata": {},
     "output_type": "display_data"
    }
   ],
   "source": [
    "# now if we check which month and date will more movie and tv series are released\n",
    "fig = plt.figure(figsize=(25,8))\n",
    "plt.subplots_adjust(left=0.1,\n",
    "                    bottom=0.1,\n",
    "                    right=0.9,\n",
    "                    top=0.9,\n",
    "                    wspace=0.4,\n",
    "                    hspace=0.4)\n",
    "\n",
    "plt.subplot(2,2,1)\n",
    "sns.barplot(data = df7,\n",
    "              x = 'date',\n",
    "            y = 'title',\n",
    "           palette='mako')\n",
    "plt.xlabel('Date')\n",
    "plt.title('Count of Movie released day wise')\n",
    "\n",
    "plt.subplot(2,2,2)\n",
    "sns.barplot(data = df7,\n",
    "              x = 'month',\n",
    "              y = 'title',\n",
    "           palette='mako')\n",
    "plt.xlabel('Month')\n",
    "plt.xticks([0.0,1.0,2.0,3.0,4.0,5.0,6.0,7.0,8.0,9.0,10.0,11.0],['January','February','March','April',\n",
    "                   'May','June','July','August','September','October','November','December'])\n",
    "plt.title('Count of Movie released month wise')\n",
    "\n",
    "\n",
    "plt.subplot(2,2,3)\n",
    "sns.barplot(data = df8,\n",
    "              x = 'date',\n",
    "            y = 'title',\n",
    "              palette='mako')\n",
    "plt.xlabel('Date')\n",
    "plt.title('Count of TV shows released day wise')\n",
    "\n",
    "plt.subplot(2,2,4)\n",
    "sns.barplot(data = df8,\n",
    "              x = 'month',\n",
    "              y = 'title',\n",
    "              palette='mako')\n",
    "plt.xlabel('Month')\n",
    "plt.xticks([0.0,1.0,2.0,3.0,4.0,5.0,6.0,7.0,8.0,9.0,10.0,11.0],['January','February','March','April',\n",
    "                   'May','June','July','August','September','October','November','December'])\n",
    "plt.title('Count of TV shows released month wise')\n",
    "\n",
    "plt.show()"
   ]
  },
  {
   "cell_type": "markdown",
   "id": "16f46f4f",
   "metadata": {},
   "source": [
    "- We can see movie and tv show released is mostly in the start or mid of the month\n",
    "- the Tv show and movie are released usually on December, January and July month"
   ]
  },
  {
   "cell_type": "code",
   "execution_count": 686,
   "id": "93412a6e",
   "metadata": {},
   "outputs": [],
   "source": [
    "df5 = df_final_movie.groupby('release_year').agg({'duration':'mean'}).reset_index()\n",
    "df6 = df_final_tv_show.groupby('release_year').agg({'duration':'mean'}).reset_index()"
   ]
  },
  {
   "cell_type": "code",
   "execution_count": 687,
   "id": "22106363",
   "metadata": {},
   "outputs": [
    {
     "data": {
      "image/png": "[encoded data removed]",
      "text/plain": [
       "<Figure size 1800x576 with 2 Axes>"
      ]
     },
     "metadata": {},
     "output_type": "display_data"
    }
   ],
   "source": [
    "fig = plt.figure(figsize=(25,8))\n",
    "\n",
    "plt.subplot(1,2,1)\n",
    "sns.lineplot(data = df5,\n",
    "                x = 'release_year',\n",
    "                y = 'duration',\n",
    "                )\n",
    "plt.xlabel('year')\n",
    "plt.ylabel('Movie time')\n",
    "plt.title('Run time vs Year')\n",
    "\n",
    "plt.subplot(1,2,2)\n",
    "sns.lineplot(data = df6,\n",
    "                x = 'release_year',\n",
    "                y = 'duration',\n",
    "                )\n",
    "plt.xlabel('year')\n",
    "plt.ylabel('Number of Season')\n",
    "plt.title('Number of Season vs Year')\n",
    "\n",
    "plt.show()"
   ]
  },
  {
   "cell_type": "markdown",
   "id": "250748b1",
   "metadata": {},
   "source": [
    "- We can see that the movie average time decreaing over the years\n",
    "- the seasons are also reducing over the years"
   ]
  },
  {
   "cell_type": "code",
   "execution_count": 688,
   "id": "d7480735",
   "metadata": {},
   "outputs": [
    {
     "data": {
      "text/html": [
       "<div>\n",
       "<style scoped>\n",
       "    .dataframe tbody tr th:only-of-type {\n",
       "        vertical-align: middle;\n",
       "    }\n",
       "\n",
       "    .dataframe tbody tr th {\n",
       "        vertical-align: top;\n",
       "    }\n",
       "\n",
       "    .dataframe thead th {\n",
       "        text-align: right;\n",
       "    }\n",
       "</style>\n",
       "<table border=\"1\" class=\"dataframe\">\n",
       "  <thead>\n",
       "    <tr style=\"text-align: right;\">\n",
       "      <th></th>\n",
       "      <th>Country</th>\n",
       "      <th>Genre</th>\n",
       "      <th>title</th>\n",
       "    </tr>\n",
       "  </thead>\n",
       "  <tbody>\n",
       "    <tr>\n",
       "      <th>0</th>\n",
       "      <td></td>\n",
       "      <td>Dramas</td>\n",
       "      <td>9</td>\n",
       "    </tr>\n",
       "    <tr>\n",
       "      <th>1</th>\n",
       "      <td></td>\n",
       "      <td>Independent Movies</td>\n",
       "      <td>8</td>\n",
       "    </tr>\n",
       "    <tr>\n",
       "      <th>2</th>\n",
       "      <td></td>\n",
       "      <td>International Movies</td>\n",
       "      <td>40</td>\n",
       "    </tr>\n",
       "    <tr>\n",
       "      <th>3</th>\n",
       "      <td></td>\n",
       "      <td>TV Dramas</td>\n",
       "      <td>4</td>\n",
       "    </tr>\n",
       "    <tr>\n",
       "      <th>4</th>\n",
       "      <td></td>\n",
       "      <td>Classic Movies</td>\n",
       "      <td>9</td>\n",
       "    </tr>\n",
       "    <tr>\n",
       "      <th>...</th>\n",
       "      <td>...</td>\n",
       "      <td>...</td>\n",
       "      <td>...</td>\n",
       "    </tr>\n",
       "    <tr>\n",
       "      <th>2496</th>\n",
       "      <td>West Germany</td>\n",
       "      <td>International Movies</td>\n",
       "      <td>2</td>\n",
       "    </tr>\n",
       "    <tr>\n",
       "      <th>2497</th>\n",
       "      <td>West Germany</td>\n",
       "      <td>Documentaries</td>\n",
       "      <td>2</td>\n",
       "    </tr>\n",
       "    <tr>\n",
       "      <th>2498</th>\n",
       "      <td>Zimbabwe</td>\n",
       "      <td>International Movies</td>\n",
       "      <td>12</td>\n",
       "    </tr>\n",
       "    <tr>\n",
       "      <th>2499</th>\n",
       "      <td>Zimbabwe</td>\n",
       "      <td>Romantic Movies</td>\n",
       "      <td>12</td>\n",
       "    </tr>\n",
       "    <tr>\n",
       "      <th>2500</th>\n",
       "      <td>Zimbabwe</td>\n",
       "      <td>Comedies</td>\n",
       "      <td>12</td>\n",
       "    </tr>\n",
       "  </tbody>\n",
       "</table>\n",
       "<p>2501 rows × 3 columns</p>\n",
       "</div>"
      ],
      "text/plain": [
       "           Country                  Genre  title\n",
       "0                                  Dramas      9\n",
       "1                      Independent Movies      8\n",
       "2                    International Movies     40\n",
       "3                               TV Dramas      4\n",
       "4                          Classic Movies      9\n",
       "...            ...                    ...    ...\n",
       "2496  West Germany   International Movies      2\n",
       "2497  West Germany          Documentaries      2\n",
       "2498      Zimbabwe   International Movies     12\n",
       "2499      Zimbabwe        Romantic Movies     12\n",
       "2500      Zimbabwe               Comedies     12\n",
       "\n",
       "[2501 rows x 3 columns]"
      ]
     },
     "execution_count": 688,
     "metadata": {},
     "output_type": "execute_result"
    }
   ],
   "source": [
    "df_country_genre = df_final.groupby(['Country','Genre']).agg({'title':'count'}).reset_index()\n",
    "df_country_genre"
   ]
  },
  {
   "cell_type": "code",
   "execution_count": 689,
   "id": "eef2d2c0",
   "metadata": {},
   "outputs": [],
   "source": [
    "#lets check for top countries like United States, India, United Kingdom, Canada and Japan\n",
    "df_US = df_country_genre.loc[df_country_genre['Country']=='United States'][['Genre','title']].sort_values(by='title',ascending=False).reset_index().head(5)\n",
    "df_India = df_country_genre.loc[df_country_genre['Country']=='India'][['Genre','title']].sort_values(by='title',ascending=False).reset_index().head(5)\n",
    "df_UK = df_country_genre.loc[df_country_genre['Country']=='United Kingdom'][['Genre','title']].sort_values(by='title',ascending=False).reset_index().head(5)\n",
    "df_Canada = df_country_genre.loc[df_country_genre['Country']=='Canada'][['Genre','title']].sort_values(by='title',ascending=False).reset_index().head(5)\n",
    "df_Japan = df_country_genre.loc[df_country_genre['Country']=='Japan'][['Genre','title']].sort_values(by='title',ascending=False).reset_index().head(5)"
   ]
  },
  {
   "cell_type": "code",
   "execution_count": 690,
   "id": "93fce86c",
   "metadata": {},
   "outputs": [
    {
     "data": {
      "text/plain": [
       "<function matplotlib.pyplot.show(close=None, block=None)>"
      ]
     },
     "execution_count": 690,
     "metadata": {},
     "output_type": "execute_result"
    },
    {
     "data": {
      "image/png": "[encoded data removed]",
      "text/plain": [
       "<Figure size 2160x1080 with 5 Axes>"
      ]
     },
     "metadata": {},
     "output_type": "display_data"
    }
   ],
   "source": [
    "#lets check for top countries like United States, India, United Kingdom, Canada and Japan\n",
    "fig = plt.figure(figsize=(30,15))\n",
    "plt.subplots_adjust(left=0.1,\n",
    "                    bottom=0.1,\n",
    "                    right=0.9,\n",
    "                    top=0.9,\n",
    "                    wspace=0.4,\n",
    "                    hspace=0.4)\n",
    "\n",
    "plt.subplot(3,2,1)\n",
    "sns.barplot(data = df_US,\n",
    "             x = 'Genre',\n",
    "              y = 'title',\n",
    "            palette='mako'\n",
    "             )\n",
    "plt.xticks(fontsize=10)\n",
    "plt.xlabel('Genre')\n",
    "plt.title('United States')\n",
    "\n",
    "plt.subplot(3,2,2)\n",
    "sns.barplot(data = df_India,\n",
    "             x = 'Genre',\n",
    "              y = 'title',\n",
    "            palette='mako'\n",
    "             )\n",
    "plt.xticks(fontsize=10)\n",
    "plt.xlabel('Genre')\n",
    "plt.title('India')\n",
    "\n",
    "plt.subplot(3,2,3)\n",
    "sns.barplot(data = df_UK,\n",
    "             x = 'Genre',\n",
    "              y = 'title',\n",
    "            palette='mako'\n",
    "             )\n",
    "plt.xticks(fontsize=10)\n",
    "plt.xlabel('Genre')\n",
    "plt.title('United Kingdom')\n",
    "\n",
    "plt.subplot(3,2,4)\n",
    "sns.barplot(data = df_Canada,\n",
    "             x = 'Genre',\n",
    "              y = 'title',\n",
    "            palette='mako'\n",
    "             )\n",
    "plt.xticks(fontsize=10)\n",
    "plt.xlabel('Genre')\n",
    "plt.title('Canada')\n",
    "\n",
    "plt.subplot(3,2,5)\n",
    "sns.barplot(data = df_Japan,\n",
    "             x = 'Genre',\n",
    "              y = 'title',\n",
    "            palette='mako'\n",
    "             )\n",
    "plt.xticks(fontsize=10)\n",
    "plt.xlabel('Genre')\n",
    "plt.title('Japan')\n",
    "\n",
    "plt.show"
   ]
  },
  {
   "cell_type": "markdown",
   "id": "9cbf495e",
   "metadata": {},
   "source": [
    "We can see theb top Genre across top country with maximum customers\n",
    "- United States\n",
    "    - Comedies \n",
    "    - Dramas\n",
    "    - Children and family movies\n",
    "- India\n",
    "    - International Movies\n",
    "    - Dramas\n",
    "    - Comedies\n",
    "- United Kingdom\n",
    "    - British TV show\n",
    "    - Dramas\n",
    "    - International Movies\n",
    "- Canada\n",
    "    - Children and family movies\n",
    "    - Dramas\n",
    "    - Comedies\n",
    "- Japan\n",
    "    - Anime Series\n",
    "    - International TV shows\n",
    "    - International Movies"
   ]
  },
  {
   "cell_type": "code",
   "execution_count": 691,
   "id": "7756ca56",
   "metadata": {},
   "outputs": [
    {
     "data": {
      "text/html": [
       "<div>\n",
       "<style scoped>\n",
       "    .dataframe tbody tr th:only-of-type {\n",
       "        vertical-align: middle;\n",
       "    }\n",
       "\n",
       "    .dataframe tbody tr th {\n",
       "        vertical-align: top;\n",
       "    }\n",
       "\n",
       "    .dataframe thead th {\n",
       "        text-align: right;\n",
       "    }\n",
       "</style>\n",
       "<table border=\"1\" class=\"dataframe\">\n",
       "  <thead>\n",
       "    <tr style=\"text-align: right;\">\n",
       "      <th></th>\n",
       "      <th>Director</th>\n",
       "      <th>Actors</th>\n",
       "      <th>title</th>\n",
       "      <th>Director-Actor</th>\n",
       "    </tr>\n",
       "  </thead>\n",
       "  <tbody>\n",
       "    <tr>\n",
       "      <th>27312</th>\n",
       "      <td>Lars von Trier</td>\n",
       "      <td>Charlotte Gainsbourg</td>\n",
       "      <td>33</td>\n",
       "      <td>Lars von Trier-Charlotte Gainsbourg</td>\n",
       "    </tr>\n",
       "    <tr>\n",
       "      <th>27310</th>\n",
       "      <td>Lars von Trier</td>\n",
       "      <td>Uma Thurman</td>\n",
       "      <td>33</td>\n",
       "      <td>Lars von Trier- Uma Thurman</td>\n",
       "    </tr>\n",
       "    <tr>\n",
       "      <th>27309</th>\n",
       "      <td>Lars von Trier</td>\n",
       "      <td>Stellan Skarsgård</td>\n",
       "      <td>33</td>\n",
       "      <td>Lars von Trier- Stellan Skarsgård</td>\n",
       "    </tr>\n",
       "    <tr>\n",
       "      <th>27307</th>\n",
       "      <td>Lars von Trier</td>\n",
       "      <td>Stacy Martin</td>\n",
       "      <td>33</td>\n",
       "      <td>Lars von Trier- Stacy Martin</td>\n",
       "    </tr>\n",
       "    <tr>\n",
       "      <th>27306</th>\n",
       "      <td>Lars von Trier</td>\n",
       "      <td>Sophie Kennedy Clark</td>\n",
       "      <td>33</td>\n",
       "      <td>Lars von Trier- Sophie Kennedy Clark</td>\n",
       "    </tr>\n",
       "    <tr>\n",
       "      <th>27305</th>\n",
       "      <td>Lars von Trier</td>\n",
       "      <td>Shia LaBeouf</td>\n",
       "      <td>33</td>\n",
       "      <td>Lars von Trier- Shia LaBeouf</td>\n",
       "    </tr>\n",
       "    <tr>\n",
       "      <th>27300</th>\n",
       "      <td>Lars von Trier</td>\n",
       "      <td>Christian Slater</td>\n",
       "      <td>33</td>\n",
       "      <td>Lars von Trier- Christian Slater</td>\n",
       "    </tr>\n",
       "    <tr>\n",
       "      <th>48202</th>\n",
       "      <td>Wilson Yip</td>\n",
       "      <td>Donnie Yen</td>\n",
       "      <td>26</td>\n",
       "      <td>Wilson Yip-Donnie Yen</td>\n",
       "    </tr>\n",
       "    <tr>\n",
       "      <th>6946</th>\n",
       "      <td>Alastair Fothergill</td>\n",
       "      <td>David Attenborough</td>\n",
       "      <td>26</td>\n",
       "      <td>Alastair Fothergill-David Attenborough</td>\n",
       "    </tr>\n",
       "    <tr>\n",
       "      <th>46579</th>\n",
       "      <td>Toshiya Shinohara</td>\n",
       "      <td>Satsuki Yukino</td>\n",
       "      <td>21</td>\n",
       "      <td>Toshiya Shinohara- Satsuki Yukino</td>\n",
       "    </tr>\n",
       "    <tr>\n",
       "      <th>46572</th>\n",
       "      <td>Toshiya Shinohara</td>\n",
       "      <td>Kumiko Watanabe</td>\n",
       "      <td>21</td>\n",
       "      <td>Toshiya Shinohara- Kumiko Watanabe</td>\n",
       "    </tr>\n",
       "    <tr>\n",
       "      <th>48581</th>\n",
       "      <td>Yorgos Lanthimos</td>\n",
       "      <td>Colin Farrell</td>\n",
       "      <td>21</td>\n",
       "      <td>Yorgos Lanthimos-Colin Farrell</td>\n",
       "    </tr>\n",
       "    <tr>\n",
       "      <th>34020</th>\n",
       "      <td>Nora Twomey</td>\n",
       "      <td>Laara Sadiq</td>\n",
       "      <td>21</td>\n",
       "      <td>Nora Twomey- Laara Sadiq</td>\n",
       "    </tr>\n",
       "    <tr>\n",
       "      <th>46582</th>\n",
       "      <td>Toshiya Shinohara</td>\n",
       "      <td>Kappei Yamaguchi</td>\n",
       "      <td>21</td>\n",
       "      <td>Toshiya Shinohara-Kappei Yamaguchi</td>\n",
       "    </tr>\n",
       "    <tr>\n",
       "      <th>46566</th>\n",
       "      <td>Toshiya Shinohara</td>\n",
       "      <td>Houko Kuwashima</td>\n",
       "      <td>21</td>\n",
       "      <td>Toshiya Shinohara- Houko Kuwashima</td>\n",
       "    </tr>\n",
       "    <tr>\n",
       "      <th>34024</th>\n",
       "      <td>Nora Twomey</td>\n",
       "      <td>Soma Chhaya</td>\n",
       "      <td>21</td>\n",
       "      <td>Nora Twomey- Soma Chhaya</td>\n",
       "    </tr>\n",
       "    <tr>\n",
       "      <th>40618</th>\n",
       "      <td>S.S. Rajamouli</td>\n",
       "      <td>Prabhas</td>\n",
       "      <td>21</td>\n",
       "      <td>S.S. Rajamouli-Prabhas</td>\n",
       "    </tr>\n",
       "    <tr>\n",
       "      <th>34019</th>\n",
       "      <td>Nora Twomey</td>\n",
       "      <td>Kawa Ada</td>\n",
       "      <td>21</td>\n",
       "      <td>Nora Twomey- Kawa Ada</td>\n",
       "    </tr>\n",
       "    <tr>\n",
       "      <th>9274</th>\n",
       "      <td>Ari Folman</td>\n",
       "      <td>Jon Hamm</td>\n",
       "      <td>21</td>\n",
       "      <td>Ari Folman- Jon Hamm</td>\n",
       "    </tr>\n",
       "    <tr>\n",
       "      <th>34025</th>\n",
       "      <td>Nora Twomey</td>\n",
       "      <td>Saara Chaudry</td>\n",
       "      <td>21</td>\n",
       "      <td>Nora Twomey-Saara Chaudry</td>\n",
       "    </tr>\n",
       "  </tbody>\n",
       "</table>\n",
       "</div>"
      ],
      "text/plain": [
       "                  Director                 Actors  title  \\\n",
       "27312       Lars von Trier   Charlotte Gainsbourg     33   \n",
       "27310       Lars von Trier            Uma Thurman     33   \n",
       "27309       Lars von Trier      Stellan Skarsgård     33   \n",
       "27307       Lars von Trier           Stacy Martin     33   \n",
       "27306       Lars von Trier   Sophie Kennedy Clark     33   \n",
       "27305       Lars von Trier           Shia LaBeouf     33   \n",
       "27300       Lars von Trier       Christian Slater     33   \n",
       "48202           Wilson Yip             Donnie Yen     26   \n",
       "6946   Alastair Fothergill     David Attenborough     26   \n",
       "46579    Toshiya Shinohara         Satsuki Yukino     21   \n",
       "46572    Toshiya Shinohara        Kumiko Watanabe     21   \n",
       "48581     Yorgos Lanthimos          Colin Farrell     21   \n",
       "34020          Nora Twomey            Laara Sadiq     21   \n",
       "46582    Toshiya Shinohara       Kappei Yamaguchi     21   \n",
       "46566    Toshiya Shinohara        Houko Kuwashima     21   \n",
       "34024          Nora Twomey            Soma Chhaya     21   \n",
       "40618       S.S. Rajamouli                Prabhas     21   \n",
       "34019          Nora Twomey               Kawa Ada     21   \n",
       "9274            Ari Folman               Jon Hamm     21   \n",
       "34025          Nora Twomey          Saara Chaudry     21   \n",
       "\n",
       "                               Director-Actor  \n",
       "27312     Lars von Trier-Charlotte Gainsbourg  \n",
       "27310             Lars von Trier- Uma Thurman  \n",
       "27309       Lars von Trier- Stellan Skarsgård  \n",
       "27307            Lars von Trier- Stacy Martin  \n",
       "27306    Lars von Trier- Sophie Kennedy Clark  \n",
       "27305            Lars von Trier- Shia LaBeouf  \n",
       "27300        Lars von Trier- Christian Slater  \n",
       "48202                   Wilson Yip-Donnie Yen  \n",
       "6946   Alastair Fothergill-David Attenborough  \n",
       "46579       Toshiya Shinohara- Satsuki Yukino  \n",
       "46572      Toshiya Shinohara- Kumiko Watanabe  \n",
       "48581          Yorgos Lanthimos-Colin Farrell  \n",
       "34020                Nora Twomey- Laara Sadiq  \n",
       "46582      Toshiya Shinohara-Kappei Yamaguchi  \n",
       "46566      Toshiya Shinohara- Houko Kuwashima  \n",
       "34024                Nora Twomey- Soma Chhaya  \n",
       "40618                  S.S. Rajamouli-Prabhas  \n",
       "34019                   Nora Twomey- Kawa Ada  \n",
       "9274                     Ari Folman- Jon Hamm  \n",
       "34025               Nora Twomey-Saara Chaudry  "
      ]
     },
     "execution_count": 691,
     "metadata": {},
     "output_type": "execute_result"
    }
   ],
   "source": [
    "# Director - Actor Duo\n",
    "df_actor_director_duo = df_final.groupby(['Director','Actors']).agg({'title':'count'}).reset_index().sort_values(by = 'title',ascending = False)\n",
    "df_actor_director_duo = df_actor_director_duo.loc[(df_actor_director_duo['Director'] != 'unknown directors') & (df_actor_director_duo['Actors'] != 'unknown actors')].head(20)\n",
    "df_actor_director_duo['Director-Actor'] = df_actor_director_duo['Director'] + str('-') + df_actor_director_duo['Actors']\n",
    "df_actor_director_duo"
   ]
  },
  {
   "cell_type": "code",
   "execution_count": 692,
   "id": "5008c5cb",
   "metadata": {},
   "outputs": [
    {
     "data": {
      "image/png": "[encoded data removed]",
      "text/plain": [
       "<Figure size 2160x720 with 1 Axes>"
      ]
     },
     "metadata": {},
     "output_type": "display_data"
    }
   ],
   "source": [
    "fig = plt.figure(figsize=(30,10))\n",
    "sns.barplot(data = df_actor_director_duo,\n",
    "           x = 'Director-Actor',\n",
    "           y = 'title',\n",
    "           palette='mako')\n",
    "plt.xticks(rotation = 90,fontsize=15)\n",
    "plt.title('Best Director - Actor Duo')\n",
    "plt.show()"
   ]
  },
  {
   "cell_type": "markdown",
   "id": "e93cb6c2",
   "metadata": {},
   "source": [
    "Best Director actor Duo is Lars von Trier with Christian Slater,Sophie Kennedy Clark, Stacy Martin, Stellan Skarsgård, Uma Thurman, Charlotte Gainsbourg and Shia LaBeouf"
   ]
  },
  {
   "cell_type": "code",
   "execution_count": 693,
   "id": "82cf8d0e",
   "metadata": {},
   "outputs": [
    {
     "data": {
      "image/png": "[encoded data removed]",
      "text/plain": [
       "<Figure size 720x576 with 2 Axes>"
      ]
     },
     "metadata": {},
     "output_type": "display_data"
    }
   ],
   "source": [
    "plt.figure(figsize=(10,8))\n",
    "df_mon_year = df_final_tv_show.groupby('release_year')['month'].value_counts().unstack().fillna(0).T\n",
    "sns.heatmap(df_mon_year,cmap ='Blues') #heatmap\n",
    "plt.yticks([0.0,1.0,2.0,3.0,4.0,5.0,6.0,7.0,8.0,9.0,10.0,11.0],['January','February','March','April',\n",
    "                   'May','June','July','August','September','October','November','December'],rotation = 30)\n",
    "plt.show()"
   ]
  },
  {
   "cell_type": "markdown",
   "id": "f3258c0a",
   "metadata": {},
   "source": [
    "- most of the movie are released in 2019 November month"
   ]
  },
  {
   "cell_type": "code",
   "execution_count": 694,
   "id": "9b260b56",
   "metadata": {},
   "outputs": [
    {
     "data": {
      "image/png": "[encoded data removed]",
      "text/plain": [
       "<Figure size 540x540 with 12 Axes>"
      ]
     },
     "metadata": {},
     "output_type": "display_data"
    }
   ],
   "source": [
    "sns.pairplot(data= df_final)\n",
    "plt.show()"
   ]
  },
  {
   "cell_type": "code",
   "execution_count": null,
   "id": "0917b5f5",
   "metadata": {},
   "outputs": [],
   "source": []
  },
  {
   "cell_type": "markdown",
   "id": "54423967",
   "metadata": {},
   "source": [
    "#  Recommendations:"
   ]
  },
  {
   "cell_type": "markdown",
   "id": "92ab448a",
   "metadata": {},
   "source": [
    "- The count of users of netflix is most in US, followed by India and UK.\n",
    "- Drama genre is common in all these 3 countries, so more movies and tv show of drama Genre should be considered in making.\n",
    "- Best time of releasing a movie or tv show is at month end or month starting, so this can also be considered before releasing.\n",
    "- We can also see that middle of the year and end of the year is the best time to release movie or tv series.\n",
    "- Growth of tv series over the past few years is quite massive as compared to movies, so more focus can be given in making tv series.\n",
    "- The trend clearly shows that movies duration have reduced over the years and this is prefered by people"
   ]
  },
  {
   "cell_type": "code",
   "execution_count": null,
   "id": "df0a00e0",
   "metadata": {},
   "outputs": [],
   "source": []
  }
 ],
 "metadata": {
  "kernelspec": {
   "display_name": "Python 3 (ipykernel)",
   "language": "python",
   "name": "python3"
  },
  "language_info": {
   "codemirror_mode": {
    "name": "ipython",
    "version": 3
   },
   "file_extension": ".py",
   "mimetype": "text/x-python",
   "name": "python",
   "nbconvert_exporter": "python",
   "pygments_lexer": "ipython3",
   "version": "3.9.12"
  }
 },
 "nbformat": 4,
 "nbformat_minor": 5
}
